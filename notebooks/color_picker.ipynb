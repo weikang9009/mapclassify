{
 "cells": [
  {
   "cell_type": "markdown",
   "metadata": {},
   "source": [
    "Install the lastest widgets code...\n",
    "\n",
    "```conda install -c conda-forge ipywidgets```"
   ]
  },
  {
   "cell_type": "code",
   "execution_count": 1,
   "metadata": {
    "collapsed": false
   },
   "outputs": [],
   "source": [
    "from ipywidgets import Dropdown, RadioButtons, IntSlider, VBox, FloatSlider, Button\n",
    "from IPython.display import display"
   ]
  },
  {
   "cell_type": "code",
   "execution_count": 2,
   "metadata": {
    "collapsed": false
   },
   "outputs": [
    {
     "data": {
      "application/vnd.jupyter.widget-view+json": {
       "model_id": "c94b5401fe5a4c73b127444eeaee2283",
       "version_major": 2,
       "version_minor": 0
      },
      "text/plain": [
       "VBox(children=(RadioButtons(options=('sequential', 'diverging', 'qualitative'), value='sequential'), Dropdown(…"
      ]
     },
     "metadata": {},
     "output_type": "display_data"
    }
   ],
   "source": [
    "data_type = RadioButtons(options=['sequential', 'diverging', 'qualitative'])\n",
    "\n",
    "bindings = {'sequential': range(3,9+1),\n",
    "            'diverging': range(3,11+1),\n",
    "            'qualitative': range(3,12+1)}\n",
    "\n",
    "class_val = Dropdown(options=bindings[data_type.value])    \n",
    "\n",
    "def type_change(change):\n",
    "    class_val.options = bindings[change['new']]\n",
    "\n",
    "data_type.observe(type_change, names=['value'])\n",
    "\n",
    "display(VBox([data_type, class_val]))"
   ]
  },
  {
   "cell_type": "code",
   "execution_count": 3,
   "metadata": {
    "collapsed": false
   },
   "outputs": [
    {
     "data": {
      "application/vnd.jupyter.widget-view+json": {
       "model_id": "d5c6d3f7a6f24ef09a5d9b6ce7200621",
       "version_major": 2,
       "version_minor": 0
      },
      "text/plain": [
       "VBox(children=(RadioButtons(description='Data Type', options=('sequential', 'qualitative', 'diverging'), value…"
      ]
     },
     "metadata": {},
     "output_type": "display_data"
    }
   ],
   "source": [
    "\"\"\"\n",
    "data_type = RadioButtons(options=['sequential', 'diverging', 'qualitative'])\n",
    "\n",
    "bindings = {'sequential': range(3,9+1),\n",
    "            'diverging': range(3,11+1),\n",
    "            'qualitative': range(3,12+1)}\n",
    "\n",
    "class_val = Dropdown(options=bindings[data_type.value])    \n",
    "\n",
    "def type_change(change):\n",
    "    class_val.options = bindings[change['new']]\n",
    "\n",
    "data_type.observe(type_change, names=['value'])\n",
    "\n",
    "display(VBox([data_type, class_val]))\n",
    "\"\"\"\n",
    "# on data_type change update list of color maps\n",
    "# based on class_val and data_type\n",
    "\n",
    "from mapclassify.color import color_display_types\n",
    "\n",
    "dt = sorted(color_display_types.keys(), reverse=True)\n",
    "data_type = RadioButtons(description='Data Type', options=dt)\n",
    "bindings = {}\n",
    "for t in dt:\n",
    "    bindings[t] = color_display_types[t].keys()\n",
    "    \n",
    "cmap = Dropdown(description='CMap:', options=bindings[data_type.value])\n",
    "\n",
    "def type_change(change):\n",
    "    with cmap.hold_trait_notifications():\n",
    "        cmap.options = bindings[change['new']]\n",
    "\n",
    "data_type.observe(type_change, names=['value'])\n",
    "\n",
    "display(VBox([data_type, cmap]))\n",
    "\n"
   ]
  },
  {
   "cell_type": "code",
   "execution_count": 5,
   "metadata": {
    "collapsed": false
   },
   "outputs": [
    {
     "data": {
      "application/vnd.jupyter.widget-view+json": {
       "model_id": "cefa0c7146144666b4c32e322c0f6026",
       "version_major": 2,
       "version_minor": 0
      },
      "text/plain": [
       "VBox(children=(RadioButtons(description='Data Type', options=('sequential', 'qualitative', 'diverging'), value…"
      ]
     },
     "metadata": {},
     "output_type": "display_data"
    }
   ],
   "source": [
    "\"\"\"\n",
    "data_type = RadioButtons(options=['sequential', 'diverging', 'qualitative'])\n",
    "\n",
    "bindings = {'sequential': range(3,9+1),\n",
    "            'diverging': range(3,11+1),\n",
    "            'qualitative': range(3,12+1)}\n",
    "\n",
    "class_val = Dropdown(options=bindings[data_type.value])    \n",
    "\n",
    "def type_change(change):\n",
    "    class_val.options = bindings[change['new']]\n",
    "\n",
    "data_type.observe(type_change, names=['value'])\n",
    "\n",
    "display(VBox([data_type, class_val]))\n",
    "\"\"\"\n",
    "# on data_type change update list of color maps\n",
    "# based on class_val and data_type\n",
    "\n",
    "from mapclassify.color import color_display_types\n",
    "from mapclassify.color import plot_cmaps as pcmaps\n",
    "\n",
    "dt = sorted(color_display_types.keys(), reverse=True)\n",
    "data_type = RadioButtons(description='Data Type', options=dt)\n",
    "bindings = {}\n",
    "for t in dt:\n",
    "    bindings[t] = color_display_types[t].keys()\n",
    "    \n",
    "cmap = Dropdown(description='CMap:', options=bindings[data_type.value])\n",
    "\n",
    "def type_change(change):\n",
    "    with cmap.hold_trait_notifications():\n",
    "        cmap.options = bindings[change['new']]\n",
    "\n",
    "data_type.observe(type_change, names=['value'])  \n",
    "\n",
    "display(VBox([data_type, cmap]))\n",
    "\n"
   ]
  },
  {
   "cell_type": "code",
   "execution_count": null,
   "metadata": {
    "collapsed": false
   },
   "outputs": [],
   "source": [
    "%matplotlib inline\n",
    "from mapclassify.color import plot_cmaps \n",
    "plot_cmaps('diverging', selected=3)"
   ]
  },
  {
   "cell_type": "code",
   "execution_count": 6,
   "metadata": {
    "collapsed": false
   },
   "outputs": [
    {
     "data": {
      "application/vnd.jupyter.widget-view+json": {
       "model_id": "10a39ff1b6f145c6a3cda77d76d77df9",
       "version_major": 2,
       "version_minor": 0
      },
      "text/plain": [
       "interactive(children=(RadioButtons(description='Data Type', options=('sequential', 'qualitative', 'diverging')…"
      ]
     },
     "metadata": {},
     "output_type": "display_data"
    }
   ],
   "source": [
    "\"\"\"\n",
    "data_type = RadioButtons(options=['sequential', 'diverging', 'qualitative'])\n",
    "\n",
    "bindings = {'sequential': range(3,9+1),\n",
    "            'diverging': range(3,11+1),\n",
    "            'qualitative': range(3,12+1)}\n",
    "\n",
    "class_val = Dropdown(options=bindings[data_type.value])    \n",
    "\n",
    "def type_change(change):\n",
    "    class_val.options = bindings[change['new']]\n",
    "\n",
    "data_type.observe(type_change, names=['value'])\n",
    "\n",
    "display(VBox([data_type, class_val]))\n",
    "\"\"\"\n",
    "# on data_type change update list of color maps\n",
    "# based on class_val and data_type\n",
    "\n",
    "from mapclassify.color import color_display_types\n",
    "from mapclassify.color import plot_cmaps as pcmaps\n",
    "from ipywidgets import interact\n",
    "\n",
    "dt = sorted(color_display_types.keys(), reverse=True)\n",
    "data_type = RadioButtons(description='Data Type', options=dt)\n",
    "bindings = {}\n",
    "for t in dt:\n",
    "    bindings[t] = color_display_types[t].keys()\n",
    "    \n",
    "cmap_dd = Dropdown(description='CMap:', options=bindings[data_type.value])\n",
    "\n",
    "def type_change(change):\n",
    "    with cmap_dd.hold_trait_notifications():\n",
    "        cmap_dd.options = bindings[change['new']]\n",
    "        #plot_cmaps('diverging')\n",
    "\n",
    "def cmap_change(change):\n",
    "        with cmap_dd.hold_trait_notifications():\n",
    "            print('new cmap', str(change['new']))\n",
    "\n",
    "data_type.observe(type_change, names=['value'])  \n",
    "cmap_dd.observe(cmap_change, names=['value'])\n",
    "\n",
    "#display(VBox([data_type, cmap]))\n",
    "@interact(cmap=cmap_dd, data_type=data_type)\n",
    "def plot_cmaps(data_type, cmap):\n",
    "    #print(data_type,cmap)\n",
    "    i = cmap_dd.options.index(cmap)\n",
    "    pcmaps(data_type, i)\n"
   ]
  },
  {
   "cell_type": "code",
   "execution_count": 7,
   "metadata": {
    "collapsed": false
   },
   "outputs": [
    {
     "data": {
      "application/vnd.jupyter.widget-view+json": {
       "model_id": "a2df13349efb4e50b5aed1729ec0937d",
       "version_major": 2,
       "version_minor": 0
      },
      "text/plain": [
       "VBox(children=(RadioButtons(description='Data Type', options=('sequential', 'qualitative', 'diverging'), value…"
      ]
     },
     "metadata": {},
     "output_type": "display_data"
    },
    {
     "data": {
      "application/vnd.jupyter.widget-view+json": {
       "model_id": "757f6fc5d9954c84b8ecdc9c872b1c65",
       "version_major": 2,
       "version_minor": 0
      },
      "text/plain": [
       "interactive(children=(Dropdown(description='CMap:', options=('Blues', 'BuGn', 'BuPu', 'GnBu', 'Greens', 'Greys…"
      ]
     },
     "metadata": {},
     "output_type": "display_data"
    }
   ],
   "source": [
    "\"\"\"\n",
    "data_type = RadioButtons(options=['sequential', 'diverging', 'qualitative'])\n",
    "\n",
    "bindings = {'sequential': range(3,9+1),\n",
    "            'diverging': range(3,11+1),\n",
    "            'qualitative': range(3,12+1)}\n",
    "\n",
    "class_val = Dropdown(options=bindings[data_type.value])    \n",
    "\n",
    "def type_change(change):\n",
    "    class_val.options = bindings[change['new']]\n",
    "\n",
    "data_type.observe(type_change, names=['value'])\n",
    "\n",
    "display(VBox([data_type, class_val]))\n",
    "\"\"\"\n",
    "# on data_type change update list of color maps\n",
    "# based on class_val and data_type\n",
    "\n",
    "from mapclassify.color import color_display_types\n",
    "from mapclassify.color import plot_cmaps as pcmaps\n",
    "from ipywidgets import interact\n",
    "\n",
    "dt = sorted(color_display_types.keys(), reverse=True)\n",
    "data_type = RadioButtons(description='Data Type', options=dt)\n",
    "bindings = {}\n",
    "for t in dt:\n",
    "    bindings[t] = color_display_types[t].keys()\n",
    "    \n",
    "cmap_dd = Dropdown(description='CMap:', options=bindings[data_type.value])\n",
    "\n",
    "def type_change(change):\n",
    "    with cmap_dd.hold_trait_notifications():\n",
    "        cmap_dd.options = bindings[change['new']]\n",
    "        #plot_cmaps('diverging')\n",
    "\n",
    "def cmap_change(change):\n",
    "        with cmap_dd.hold_trait_notifications():\n",
    "            print('new cmap', str(change['new']))\n",
    "\n",
    "data_type.observe(type_change, names=['value'])  \n",
    "cmap_dd.observe(cmap_change, names=['value'])\n",
    "\n",
    "display(VBox([data_type]))\n",
    "@interact(cmap=cmap_dd)\n",
    "def plot_cmaps(cmap):\n",
    "    #print(data_type,cmap)\n",
    "    i = cmap_dd.options.index(cmap)\n",
    "    pcmaps(data_type.value, i)\n"
   ]
  },
  {
   "cell_type": "code",
   "execution_count": 9,
   "metadata": {
    "collapsed": false
   },
   "outputs": [
    {
     "data": {
      "application/vnd.jupyter.widget-view+json": {
       "model_id": "ad22cd7ac35b4dc1b8fcbd2be4ce0e19",
       "version_major": 2,
       "version_minor": 0
      },
      "text/plain": [
       "VBox(children=(RadioButtons(description='Data Type', options=('sequential', 'qualitative', 'diverging'), value…"
      ]
     },
     "metadata": {},
     "output_type": "display_data"
    },
    {
     "data": {
      "application/vnd.jupyter.widget-view+json": {
       "model_id": "2449918a0e0346f7976584cc3382c16e",
       "version_major": 2,
       "version_minor": 0
      },
      "text/plain": [
       "interactive(children=(Dropdown(description='CMap:', options=('Blues', 'BuGn', 'BuPu', 'GnBu', 'Greens', 'Greys…"
      ]
     },
     "metadata": {},
     "output_type": "display_data"
    }
   ],
   "source": [
    "# adding k\n",
    "\n",
    "# on data_type change update list of color maps\n",
    "# based on class_val and data_type\n",
    "\n",
    "from mapclassify.color import color_display_types\n",
    "from mapclassify.color import plot_cmaps as pcmaps\n",
    "from mapclassify.color import get_color_map\n",
    "from ipywidgets import interact\n",
    "\n",
    "dt = sorted(color_display_types.keys(), reverse=True)\n",
    "data_type = RadioButtons(description='Data Type', options=dt)\n",
    "bindings = {}\n",
    "for t in dt:\n",
    "    bindings[t] = color_display_types[t].keys()\n",
    "    \n",
    "cmap_dd = Dropdown(description='CMap:', options=bindings[data_type.value])\n",
    "\n",
    "def type_change(change):\n",
    "    with cmap_dd.hold_trait_notifications():\n",
    "        cmap_dd.options = bindings[change['new']]\n",
    "        k_dd.options = kbindings[change['new']]\n",
    "        #plot_cmaps('diverging')\n",
    "\n",
    "def cmap_change(change):\n",
    "        with cmap_dd.hold_trait_notifications():\n",
    "            print('new cmap', str(change['new']))\n",
    "\n",
    "data_type.observe(type_change, names=['value'])  \n",
    "cmap_dd.observe(cmap_change, names=['value'])\n",
    "kbindings = {'sequential': range(3,9+1),\n",
    "            'qualitative': range(3,12+1),\n",
    "            'diverging': range(3,11+1)}\n",
    "k_dd = Dropdown(description='k', options=kbindings[data_type.value])\n",
    "\n",
    "display(VBox([data_type, k_dd]))\n",
    "@interact(cmap=cmap_dd)\n",
    "def plot_cmaps(cmap):\n",
    "    #print(data_type,cmap)\n",
    "    i = cmap_dd.options.index(cmap)\n",
    "    pcmaps(data_type.value, i)\n",
    "    print(data_type.value,cmap, k_dd.value)\n",
    "\n"
   ]
  },
  {
   "cell_type": "code",
   "execution_count": 10,
   "metadata": {
    "collapsed": false
   },
   "outputs": [
    {
     "data": {
      "application/vnd.jupyter.widget-view+json": {
       "model_id": "52c5895a8e9f4eb6a62420c661f75a75",
       "version_major": 2,
       "version_minor": 0
      },
      "text/plain": [
       "Button(description='Display Map', style=ButtonStyle())"
      ]
     },
     "metadata": {},
     "output_type": "display_data"
    },
    {
     "data": {
      "application/vnd.jupyter.widget-view+json": {
       "model_id": "722005f419b543da92ac60acd998497f",
       "version_major": 2,
       "version_minor": 0
      },
      "text/plain": [
       "VBox(children=(RadioButtons(description='Data Type', options=('sequential', 'qualitative', 'diverging'), value…"
      ]
     },
     "metadata": {},
     "output_type": "display_data"
    },
    {
     "data": {
      "application/vnd.jupyter.widget-view+json": {
       "model_id": "665a5614a70242a797c655452b9ef1f0",
       "version_major": 2,
       "version_minor": 0
      },
      "text/plain": [
       "interactive(children=(Dropdown(description='CMap:', options=('Blues', 'BuGn', 'BuPu', 'GnBu', 'Greens', 'Greys…"
      ]
     },
     "metadata": {},
     "output_type": "display_data"
    }
   ],
   "source": [
    "# adding button\n",
    "\n",
    "# on data_type change update list of color maps\n",
    "# based on class_val and data_type\n",
    "\n",
    "from mapclassify.color import color_display_types\n",
    "from mapclassify.color import plot_cmaps as pcmaps\n",
    "from mapclassify.color import get_color_map\n",
    "from ipywidgets import interact\n",
    "\n",
    "dt = sorted(color_display_types.keys(), reverse=True)\n",
    "data_type = RadioButtons(description='Data Type', options=dt)\n",
    "bindings = {}\n",
    "for t in dt:\n",
    "    bindings[t] = color_display_types[t].keys()\n",
    "    \n",
    "cmap_dd = Dropdown(description='CMap:', options=bindings[data_type.value])\n",
    "\n",
    "def type_change(change):\n",
    "    with cmap_dd.hold_trait_notifications():\n",
    "        cmap_dd.options = bindings[change['new']]\n",
    "        k_dd.options = kbindings[change['new']]\n",
    "        #plot_cmaps('diverging')\n",
    "\n",
    "def cmap_change(change):\n",
    "        with cmap_dd.hold_trait_notifications():\n",
    "            print('new cmap', str(change['new']))\n",
    "\n",
    "data_type.observe(type_change, names=['value'])  \n",
    "cmap_dd.observe(cmap_change, names=['value'])\n",
    "kbindings = {'sequential': range(3,9+1),\n",
    "            'qualitative': range(3,12+1),\n",
    "            'diverging': range(3,11+1)}\n",
    "k_dd = Dropdown(description='k', options=kbindings[data_type.value])\n",
    "def button_clicked(btn):\n",
    "    print(data_type.value, cmap_dd.value, k_dd.value)\n",
    "\n",
    "btn = Button(description=\"Display Map\")\n",
    "btn.on_click(button_clicked)\n",
    "display(btn)\n",
    "display(VBox([data_type, k_dd]))\n",
    "@interact(cmap=cmap_dd)\n",
    "def plot_cmaps(cmap):\n",
    "    #print(data_type,cmap)\n",
    "    i = cmap_dd.options.index(cmap)\n",
    "    pcmaps(data_type.value, i)\n",
    "    #print(data_type.value,cmap, k_dd.value)\n",
    "\n"
   ]
  },
  {
   "cell_type": "code",
   "execution_count": 12,
   "metadata": {
    "collapsed": false
   },
   "outputs": [
    {
     "data": {
      "application/vnd.jupyter.widget-view+json": {
       "model_id": "f1893f2d49e344a3a81bf9f4ddcaeace",
       "version_major": 2,
       "version_minor": 0
      },
      "text/plain": [
       "Button(description='Display Map', style=ButtonStyle())"
      ]
     },
     "metadata": {},
     "output_type": "display_data"
    },
    {
     "data": {
      "application/vnd.jupyter.widget-view+json": {
       "model_id": "0bccf95aa43d48db8b4f3afd9ebe0540",
       "version_major": 2,
       "version_minor": 0
      },
      "text/plain": [
       "VBox(children=(RadioButtons(description='Data Type', options=('sequential', 'qualitative', 'diverging'), value…"
      ]
     },
     "metadata": {},
     "output_type": "display_data"
    },
    {
     "data": {
      "application/vnd.jupyter.widget-view+json": {
       "model_id": "b56262349f674cb593c523a5ee8de85b",
       "version_major": 2,
       "version_minor": 0
      },
      "text/plain": [
       "interactive(children=(Dropdown(description='CMap:', options=('Blues', 'BuGn', 'BuPu', 'GnBu', 'Greens', 'Greys…"
      ]
     },
     "metadata": {},
     "output_type": "display_data"
    }
   ],
   "source": [
    "# adding map\n",
    "\n",
    "# on data_type change update list of color maps\n",
    "# based on class_val and data_type\n",
    "\n",
    "from mapclassify.color import color_display_types\n",
    "from mapclassify.color import plot_cmaps as pcmaps\n",
    "from mapclassify.color import get_color_map\n",
    "from ipywidgets import interact\n",
    "\n",
    "dt = sorted(color_display_types.keys(), reverse=True)\n",
    "data_type = RadioButtons(description='Data Type', options=dt)\n",
    "bindings = {}\n",
    "for t in dt:\n",
    "    bindings[t] = color_display_types[t].keys()\n",
    "    \n",
    "cmap_dd = Dropdown(description='CMap:', options=bindings[data_type.value])\n",
    "\n",
    "def type_change(change):\n",
    "    with cmap_dd.hold_trait_notifications():\n",
    "        cmap_dd.options = bindings[change['new']]\n",
    "        k_dd.options = kbindings[change['new']]\n",
    "        #plot_cmaps('diverging')\n",
    "\n",
    "def cmap_change(change):\n",
    "        with cmap_dd.hold_trait_notifications():\n",
    "            print('new cmap', str(change['new']))\n",
    "\n",
    "data_type.observe(type_change, names=['value'])  \n",
    "cmap_dd.observe(cmap_change, names=['value'])\n",
    "kbindings = {'sequential': range(3,9+1),\n",
    "            'qualitative': range(3,12+1),\n",
    "            'diverging': range(3,11+1)}\n",
    "k_dd = Dropdown(description='k', options=kbindings[data_type.value])\n",
    "def button_clicked(btn):\n",
    "    print(data_type.value, cmap_dd.value, k_dd.value)\n",
    "\n",
    "btn = Button(description=\"Display Map\")\n",
    "btn.on_click(button_clicked)\n",
    "display(btn)\n",
    "display(VBox([data_type, k_dd]))\n",
    "@interact(cmap=cmap_dd)\n",
    "def plot_cmaps(cmap):\n",
    "    #print(data_type,cmap)\n",
    "    i = cmap_dd.options.index(cmap)\n",
    "    pcmaps(data_type.value, i)\n",
    "    #print(data_type.value,cmap, k_dd.value)\n",
    "\n"
   ]
  },
  {
   "cell_type": "code",
   "execution_count": null,
   "metadata": {
    "collapsed": true
   },
   "outputs": [],
   "source": []
  },
  {
   "cell_type": "code",
   "execution_count": null,
   "metadata": {
    "collapsed": true
   },
   "outputs": [],
   "source": []
  },
  {
   "cell_type": "code",
   "execution_count": null,
   "metadata": {
    "collapsed": true
   },
   "outputs": [],
   "source": []
  },
  {
   "cell_type": "code",
   "execution_count": null,
   "metadata": {
    "collapsed": true
   },
   "outputs": [],
   "source": []
  },
  {
   "cell_type": "code",
   "execution_count": null,
   "metadata": {
    "collapsed": true
   },
   "outputs": [],
   "source": []
  },
  {
   "cell_type": "code",
   "execution_count": null,
   "metadata": {
    "collapsed": true
   },
   "outputs": [],
   "source": []
  },
  {
   "cell_type": "code",
   "execution_count": null,
   "metadata": {
    "collapsed": false
   },
   "outputs": [],
   "source": [
    "plot_cmaps('diverging', 5)"
   ]
  },
  {
   "cell_type": "code",
   "execution_count": null,
   "metadata": {
    "collapsed": false
   },
   "outputs": [],
   "source": [
    "plot_cmaps('sequential', 10)"
   ]
  },
  {
   "cell_type": "code",
   "execution_count": null,
   "metadata": {
    "collapsed": false
   },
   "outputs": [],
   "source": [
    "from ipywidgets import Text\n",
    "\n",
    "int_range = IntSlider()\n",
    "display(int_range)\n",
    "\n",
    "text = Text()\n",
    "display(text)\n",
    "\n",
    "def on_value_change(change):\n",
    "    print(change['new'])\n",
    "    text.value = str(change['new'])\n",
    "    \n",
    "    \n",
    "int_range.observe(on_value_change, names='value')"
   ]
  },
  {
   "cell_type": "code",
   "execution_count": null,
   "metadata": {
    "collapsed": false
   },
   "outputs": [],
   "source": [
    "\"\"\"\n",
    "data_type = RadioButtons(options=['sequential', 'diverging', 'qualitative'])\n",
    "\n",
    "bindings = {'sequential': range(3,9+1),\n",
    "            'diverging': range(3,11+1),\n",
    "            'qualitative': range(3,12+1)}\n",
    "\n",
    "class_val = Dropdown(options=bindings[data_type.value])    \n",
    "\n",
    "def type_change(change):\n",
    "    class_val.options = bindings[change['new']]\n",
    "\n",
    "data_type.observe(type_change, names=['value'])\n",
    "\n",
    "display(VBox([data_type, class_val]))\n",
    "\"\"\"\n",
    "# on data_type change update list of color maps\n",
    "# based on class_val and data_type\n",
    "\n",
    "from pysal.contrib.viz.color import color_display_types\n",
    "\n",
    "dt = sorted(color_display_types.keys(), reverse=True)\n",
    "data_type = RadioButtons(description='Data Type', options=dt)\n",
    "bindings = {}\n",
    "for t in dt:\n",
    "    bindings[t] = color_display_types[t].keys()\n",
    "    \n",
    "cmap = Dropdown(description='CMap:', options=bindings[data_type.value])\n",
    "\n",
    "def type_change(change):\n",
    "    with cmap.hold_trait_notifications():\n",
    "        cmap.options = bindings[change['new']]\n",
    "\n",
    "data_type.observe(type_change, names=['value'])\n",
    "\n",
    "display(VBox([data_type, cmap]))\n",
    "\n"
   ]
  },
  {
   "cell_type": "code",
   "execution_count": null,
   "metadata": {
    "collapsed": false
   },
   "outputs": [],
   "source": []
  },
  {
   "cell_type": "code",
   "execution_count": null,
   "metadata": {
    "collapsed": true
   },
   "outputs": [],
   "source": []
  },
  {
   "cell_type": "code",
   "execution_count": null,
   "metadata": {
    "collapsed": true
   },
   "outputs": [],
   "source": []
  },
  {
   "cell_type": "code",
   "execution_count": null,
   "metadata": {
    "collapsed": true
   },
   "outputs": [],
   "source": []
  },
  {
   "cell_type": "code",
   "execution_count": null,
   "metadata": {
    "collapsed": true
   },
   "outputs": [],
   "source": []
  },
  {
   "cell_type": "code",
   "execution_count": null,
   "metadata": {
    "collapsed": true
   },
   "outputs": [],
   "source": []
  },
  {
   "cell_type": "code",
   "execution_count": null,
   "metadata": {
    "collapsed": true
   },
   "outputs": [],
   "source": []
  },
  {
   "cell_type": "code",
   "execution_count": null,
   "metadata": {
    "collapsed": false,
    "scrolled": true
   },
   "outputs": [],
   "source": [
    "x_widget = FloatSlider(min=0.0, max=10.0, step=0.05)\n",
    "y_widget = FloatSlider(min=0.5, max=10.0, step=0.05, value=5.0)\n",
    "\n",
    "def update_x_range(*args):\n",
    "    x_widget.max = 2.0 * y_widget.value\n",
    "y_widget.observe(update_x_range, 'value')\n",
    "\n",
    "def printer(x, y):\n",
    "    print(x, y)\n",
    "interact(printer,x=x_widget, y=y_widget)"
   ]
  },
  {
   "cell_type": "code",
   "execution_count": null,
   "metadata": {
    "collapsed": true
   },
   "outputs": [],
   "source": []
  },
  {
   "cell_type": "code",
   "execution_count": null,
   "metadata": {
    "collapsed": true
   },
   "outputs": [],
   "source": []
  },
  {
   "cell_type": "code",
   "execution_count": null,
   "metadata": {
    "collapsed": true
   },
   "outputs": [],
   "source": []
  },
  {
   "cell_type": "code",
   "execution_count": null,
   "metadata": {
    "collapsed": true
   },
   "outputs": [],
   "source": [
    "import pysal as ps\n",
    "import numpy as np\n",
    "import matplotlib.pyplot as plt\n",
    "from scipy.linalg import inv\n",
    "%matplotlib inline"
   ]
  },
  {
   "cell_type": "code",
   "execution_count": null,
   "metadata": {
    "collapsed": false
   },
   "outputs": [],
   "source": [
    "from ipywidgets import interact\n",
    "interact(draw_map, lamb=(-0.9, 0.9))"
   ]
  },
  {
   "cell_type": "code",
   "execution_count": null,
   "metadata": {
    "collapsed": true
   },
   "outputs": [],
   "source": [
    "def draw_map(lamb):\n",
    "    s = 20\n",
    "    n = s**2\n",
    "    w = ps.lat2W(s, s, rook=False)\n",
    "    w.transform = 'R'\n",
    "    e = np.random.random((n, 1))\n",
    "    u = inv(np.eye(n) - lamb * w.full()[0])\n",
    "    u = np.dot(u, e)\n",
    "    ul = ps.lag_spatial(w, u)\n",
    "    u = (u - u.mean()) / np.std(u)\n",
    "    ul = (ul - ul.mean()) / np.std(ul)\n",
    "    gu = u.reshape((s, s))\n",
    "    # Figure\n",
    "    f = plt.figure(figsize=(9, 4))\n",
    "    ax1 = f.add_subplot(121)\n",
    "    ax1.matshow(gu, cmap=plt.cm.YlGn)\n",
    "    ax1.set_frame_on(False)\n",
    "    ax1.axes.get_xaxis().set_visible(False)\n",
    "    ax1.axes.get_yaxis().set_visible(False)\n",
    "    #---\n",
    "    ax2 = f.add_subplot(122)\n",
    "    sc = ax2.scatter(u, ul, linewidth=0)\n",
    "    ols = ps.spreg.OLS(ul, u)\n",
    "    tag = \"b = %.3f\"%ols.betas[1][0]\n",
    "    ax2.plot(u, ols.predy, c='red', label=tag)\n",
    "    ax2.axvline(0, c='0.5')\n",
    "    ax2.axhline(0, c='0.5')\n",
    "    ax2.legend()\n",
    "    plt.xlabel('u')\n",
    "    plt.ylabel('Wu')\n",
    "    plt.suptitle(\"$\\lambda$ = %.2f\"%lamb)\n",
    "    plt.show()"
   ]
  },
  {
   "cell_type": "code",
   "execution_count": null,
   "metadata": {
    "collapsed": true
   },
   "outputs": [],
   "source": []
  }
 ],
 "metadata": {
  "anaconda-cloud": {},
  "kernelspec": {
   "display_name": "Python [conda env:chorobrewer]",
   "language": "python",
   "name": "conda-env-chorobrewer-py"
  },
  "language_info": {
   "codemirror_mode": {
    "name": "ipython",
    "version": 3
   },
   "file_extension": ".py",
   "mimetype": "text/x-python",
   "name": "python",
   "nbconvert_exporter": "python",
   "pygments_lexer": "ipython3",
   "version": "3.7.3"
  },
  "widgets": {
   "state": {
    "0016b3499cb04077af454de8eebf93f8": {
     "views": []
    },
    "003a4715bb0c47c7a52217b176b5007b": {
     "views": []
    },
    "008f077e9f08408e9908be98e1759ce6": {
     "views": []
    },
    "00ba00bc942c4be1a608281b1dba9cc5": {
     "views": []
    },
    "0104cac22ed447b4b9f07bcdfd3aee2b": {
     "views": []
    },
    "01741527c0e940ce8dec4323f88f45cc": {
     "views": []
    },
    "019222db4d6d4314873cb0d1ddea84c7": {
     "views": []
    },
    "0196758498cf4beb97346aac74748755": {
     "views": []
    },
    "0257eb76047e477491b579132de4d8e4": {
     "views": []
    },
    "02e4fabe1de34a698e7102df3209dc54": {
     "views": []
    },
    "0437be95374f4482a1bfd02d98a13367": {
     "views": []
    },
    "0490d44a690640bc8984b31e62acfeea": {
     "views": []
    },
    "04e65fb300dd45a78c515d93eccf3fb5": {
     "views": []
    },
    "053c14e62119411d9fd60b759300f51e": {
     "views": []
    },
    "0591ffe732764949ad8bee298a2e4eca": {
     "views": [
      {
       "cell_index": 9
      }
     ]
    },
    "05c3b57412a14405b562296301afc485": {
     "views": []
    },
    "05cfecde4da54ff8ae8b719c1ddffc87": {
     "views": []
    },
    "064b6909676848b7a108353a02403a4d": {
     "views": []
    },
    "068c09bea5504f99affeb85e1bd1e5e2": {
     "views": []
    },
    "06a7bb44611d4eba98b05380c6772170": {
     "views": []
    },
    "071dc6ac440c4a02b2f27feb49e441ff": {
     "views": []
    },
    "0726a0d7f1d04575a438e5e51bec9600": {
     "views": []
    },
    "07520e9ca6eb4e1b996f3f1f8be02e06": {
     "views": []
    },
    "07a54e21785942bbb324a5450705baba": {
     "views": []
    },
    "07c32854fac444b4ac3e0d68dbf44ae7": {
     "views": []
    },
    "082f06328b4c41d69fbfa9aab163d91c": {
     "views": []
    },
    "0939aea53eb04dc391bea781c81718e7": {
     "views": []
    },
    "093f04d527f249668fe7ec10c79f5f99": {
     "views": []
    },
    "09831ee9fa9142738894c27d82b6ec21": {
     "views": []
    },
    "0997fc971cf54a0abca4653549d8ff1b": {
     "views": []
    },
    "09a476e5746a42c988c35d5e6e22dc1f": {
     "views": []
    },
    "09c2d301c8fe469cb0add3aeea54201b": {
     "views": []
    },
    "09c3a2fb682e4a29911ef3630dd29d9a": {
     "views": []
    },
    "09cb4054961547c481505698d075d05e": {
     "views": []
    },
    "09cb5bb355cb4da5951eff847054084d": {
     "views": []
    },
    "0a5b31ec51e34ecc9f1a1dac7c4e2433": {
     "views": []
    },
    "0b2ee3297a3844f9b6c47c54ad6b816d": {
     "views": []
    },
    "0b717104e4184345934417b2f7a825fe": {
     "views": []
    },
    "0b7e163530ab48d6b8a38aee77219e01": {
     "views": []
    },
    "0c18030d84934e79b166248cccdb6bc1": {
     "views": []
    },
    "0c2c3ae1c1194ea080cb78c02a149ed8": {
     "views": []
    },
    "0c4029fa99144882860562ad35f0b977": {
     "views": []
    },
    "0c410f82d9f24811810519b4962240cd": {
     "views": []
    },
    "0cd528b4341c48b9ac195d43fb6c299e": {
     "views": []
    },
    "0cfbf66f866142ce86e9465f6c264b26": {
     "views": []
    },
    "0cfe39142ae940f7b5acb9a58c2675e0": {
     "views": []
    },
    "0d13003fc036450fb2b346a0a55b192e": {
     "views": []
    },
    "0d2000c5fec24c39ab9469cf5a4edd11": {
     "views": []
    },
    "0d65e0417c7641d19e0123690b1fcb9f": {
     "views": []
    },
    "0d68b67cc9764f1f835f12e2afceba51": {
     "views": [
      {
       "cell_index": 8
      }
     ]
    },
    "0de21fa0e9554f699184fea45af8e8a7": {
     "views": []
    },
    "0df56fdf13bd4b2490dbd54445c5aaf6": {
     "views": []
    },
    "0e1a9fb87b554a6abe133f10d9c3bc25": {
     "views": []
    },
    "0e67e55533a94ebaa96a5ccbdd4ccdeb": {
     "views": []
    },
    "0e7cfc958ef54e11984c17ad7064c998": {
     "views": []
    },
    "0eb46f2c6e764166b721634040e33731": {
     "views": []
    },
    "0ee099a07c2345beb249948c800c277a": {
     "views": []
    },
    "0ef22c81e4d5425499301564aaae0ead": {
     "views": []
    },
    "0f101c5a342c493cab99ca3edce2347c": {
     "views": []
    },
    "0f4cb84c8885411aae40b8c5fb717f65": {
     "views": [
      {
       "cell_index": 7
      }
     ]
    },
    "0ffe410b5cad4341bccd9674702049a5": {
     "views": [
      {
       "cell_index": 7
      }
     ]
    },
    "100fd494416345f899694a43ab1c87a1": {
     "views": []
    },
    "108d2357e3604f848b72cffa3b89f67b": {
     "views": []
    },
    "108e3ebb7dbc49ae92ab242b9e5037f3": {
     "views": []
    },
    "1096df6effdb437f91d858964737cce2": {
     "views": []
    },
    "10a3d522cc6d4874afeec0bb315da6d3": {
     "views": []
    },
    "10aee90e502b45fb985c19bb8ecdeeb8": {
     "views": []
    },
    "113a45ae9c1b470a9e06efa1af2b8f8f": {
     "views": []
    },
    "11cf40373eb04803903a20843e7f021f": {
     "views": []
    },
    "123e9b45b7b540b8b7126075bbecdab0": {
     "views": []
    },
    "12b35e4758f74ab494e29871b77b6bce": {
     "views": []
    },
    "1397f67dd4b2488cb3827d85c4426f77": {
     "views": []
    },
    "13b0729b752240479055bb325c291b9a": {
     "views": []
    },
    "13b44f3699234fba8f6ca17747b51a7e": {
     "views": []
    },
    "13effbca2c58402cb6d2fb5830d2eab6": {
     "views": []
    },
    "149c3d65063d4002b22039609902baf8": {
     "views": []
    },
    "14ddd7975a8e440fafcf32a1d673c894": {
     "views": []
    },
    "165d2f3b17444417aeb2e4a494025e77": {
     "views": []
    },
    "16d7f8ae93bf4b8089a218bf80bf9259": {
     "views": [
      {
       "cell_index": 8
      }
     ]
    },
    "1729e425db554badb57631333ef91d44": {
     "views": []
    },
    "174b683e944f4bcbb90652cae4446854": {
     "views": []
    },
    "17a3604d73af4059af58bf58653290d8": {
     "views": []
    },
    "17f1e70038ce4005a980796431bef14d": {
     "views": []
    },
    "18517acdb40248089d4ad58d93331814": {
     "views": []
    },
    "18567a6b41764c73a830d5ad80ad3ec6": {
     "views": []
    },
    "18e41d9b07494be9940040de285cd154": {
     "views": []
    },
    "1923d9ba63364101ad0c5f714f2a086a": {
     "views": []
    },
    "19327f78b8ab484492346945dd266d03": {
     "views": []
    },
    "194097923fed41bfb263ca9714079d45": {
     "views": []
    },
    "19dd4cbfbc73487aac83137be14bef06": {
     "views": []
    },
    "19e3b1b4474143f4b30295629792e679": {
     "views": []
    },
    "1a19426060f3481ebb85b7ef890ff82d": {
     "views": []
    },
    "1a691c87b1e04dfdb10c09653d3e3d51": {
     "views": []
    },
    "1a791374f02b45f59abba842bda4f0a3": {
     "views": [
      {
       "cell_index": 7
      }
     ]
    },
    "1a8152e9b6df491ab6e9fbd6d0c31c20": {
     "views": []
    },
    "1aa62109306347fdb58345f94d03b037": {
     "views": []
    },
    "1ac1d33196dc4e49b2a177f3d27715a5": {
     "views": []
    },
    "1ac5680392ca4d4c99fc9b6b146b1839": {
     "views": []
    },
    "1ade3f665ef14b93b6985d33bfdf578e": {
     "views": []
    },
    "1afdfb26760041dca0d68842a889b813": {
     "views": []
    },
    "1b1b874986f44b3fb36f638cedaa0064": {
     "views": []
    },
    "1b96c75cff4749358fb1c59b9efc8cb2": {
     "views": []
    },
    "1c1836dd8a0b46e0adb965a7f05d7574": {
     "views": [
      {
       "cell_index": 9
      }
     ]
    },
    "1c342c3706b24b4eb2036aa80bc65723": {
     "views": []
    },
    "1c35d7267c204ab9b2c940132a155b8e": {
     "views": []
    },
    "1cf109e5b1a74cf1a997c0c18d56e1f7": {
     "views": [
      {
       "cell_index": 7
      }
     ]
    },
    "1cf98f21636d4b3a9dd53c4fa2dc0a84": {
     "views": []
    },
    "1d745293b92b46cc93b27826a31c946c": {
     "views": []
    },
    "1dd5d6c8382047409acecea4b78a90ac": {
     "views": []
    },
    "1dfca25f881d4da2bffbd5c76420dfd7": {
     "views": []
    },
    "1e1526a580d64e16bb32ae6b0685486d": {
     "views": []
    },
    "1e3f65d939ee44ca95955a1f49b5ce36": {
     "views": []
    },
    "1e9b8120ff344c8dbf60545fa1bb6d24": {
     "views": []
    },
    "1f631444abfe4b9cb3668185773bf2a6": {
     "views": []
    },
    "1f9902d913e24ae3b5b58ea88ae32658": {
     "views": []
    },
    "1f999f07b23b4467936558dd57b434ba": {
     "views": []
    },
    "1faad7b4853042d0a80f1968a6d311e2": {
     "views": []
    },
    "1fbcd2439db7440eb29c5f26875c04fd": {
     "views": []
    },
    "1fe2fc90ec3d4710a7f90213f88c00ba": {
     "views": []
    },
    "20576886f35e4906baf66531e23c6ad4": {
     "views": []
    },
    "205dea2162824a4ab2f3a78230491195": {
     "views": []
    },
    "207dc06b7a834b2fb637bd02cb2229af": {
     "views": []
    },
    "20beb24f190b44a3be47048e8448c0e7": {
     "views": []
    },
    "20cf126f434a4c4daa0496004cf0effa": {
     "views": []
    },
    "20eff81f37664f749f1ea6ad441c5c57": {
     "views": []
    },
    "2116a4ecfb324543ac96988bf186a5b6": {
     "views": []
    },
    "21366ae27d1f4e8c9eb3b910e92bd419": {
     "views": []
    },
    "21bff19ceecf4a8c82f0c6caa0670f7c": {
     "views": []
    },
    "22509020cc324f5db9d4b38a74305a87": {
     "views": []
    },
    "22c9f50922af42a09a82e88729505768": {
     "views": []
    },
    "231381590a4043929d64672c6b19a8bd": {
     "views": []
    },
    "23770bec03cb468db191cacb5f8efbc6": {
     "views": []
    },
    "2378a1a65ce44a6c98da36ecd2f49285": {
     "views": []
    },
    "238ef4008515485b8e368d9f5a77fe78": {
     "views": []
    },
    "23d391a371e4408cbfd44b2ebbfcbc7b": {
     "views": []
    },
    "244d92967eed4c6b9f19c383b912d6fa": {
     "views": []
    },
    "2451c788a86542ba8278725bb3930137": {
     "views": []
    },
    "2458108676a342659c944b636ba00f62": {
     "views": []
    },
    "24b84e43a40b4c039607c883fc97688f": {
     "views": []
    },
    "24fc1c3cbba24693ab5ff5840d2c7fc7": {
     "views": []
    },
    "2599b56463dc45b6aadbff1c7ba2d5f9": {
     "views": []
    },
    "259d073f0db94d7d96d8016abdb141c9": {
     "views": []
    },
    "25cf716a722843d8a39c305c18536738": {
     "views": []
    },
    "261e155108474bc7b4fb738f770d630e": {
     "views": [
      {
       "cell_index": 9
      }
     ]
    },
    "27c52e53eb0f49a680f3940ea2a22f7e": {
     "views": []
    },
    "27ce634f6a6f4f7cadc3a6bb213e838e": {
     "views": []
    },
    "27e2e465540f4208b0127932840f5536": {
     "views": []
    },
    "27e97be54c824403b014f131b66f3e02": {
     "views": []
    },
    "28bedf261f1341d5874b69ad64e657a1": {
     "views": [
      {
       "cell_index": 7
      }
     ]
    },
    "293b5268f3194baca3f6f2ed23ddb8a9": {
     "views": []
    },
    "2a14a856c57742f0a727f6dd1fef961d": {
     "views": []
    },
    "2a4c16eac17f46ebb9bfdaf54c0c84f2": {
     "views": []
    },
    "2a8b0bdd996a482490b0ce54c87c344d": {
     "views": []
    },
    "2a954fb560a94382bd60c193b8791869": {
     "views": []
    },
    "2a994e8026634dcb809f394e9fe22b44": {
     "views": []
    },
    "2accfad2d8f344d89ed0c59f05f04ab0": {
     "views": [
      {
       "cell_index": 8
      }
     ]
    },
    "2aec0ab30b0f499b879633a25434b4c1": {
     "views": []
    },
    "2afe5270681c446095a7fd399e62153f": {
     "views": []
    },
    "2b7d87b399f64a19ac4c7cdf617827e9": {
     "views": []
    },
    "2b8e00fdea7f473c93c73373f8f695ef": {
     "views": []
    },
    "2bb46e6f581e4741a591708857a8fd98": {
     "views": []
    },
    "2bd0234d4e31493285abcb1edc5eb7d6": {
     "views": []
    },
    "2bd9d98c66fc45a09a2a90925e0fadff": {
     "views": []
    },
    "2bdf8565e2c8476bbb64ffaa7547b4d8": {
     "views": []
    },
    "2c37c873c9484dd495ac78819f0a03ab": {
     "views": []
    },
    "2c94248856974040a1eed04defdf1505": {
     "views": []
    },
    "2ca1f3e235d345da95497c501f8cbeca": {
     "views": []
    },
    "2d40d16335614fa680eacd7442bfa4ae": {
     "views": []
    },
    "2da3c606849d498b8133f6199020d8d6": {
     "views": []
    },
    "2dd52fdd7f6f40f3a781ae6eb28cbc85": {
     "views": []
    },
    "2e6d9ecbeb0d44d2be54d71dd38cc3a3": {
     "views": []
    },
    "2e7d1ebcb5f04cab9d4ee34da945d861": {
     "views": [
      {
       "cell_index": 9
      }
     ]
    },
    "2e99c7f738244d02a44e28a12ff5f903": {
     "views": []
    },
    "2f76f7a4a04c4459b769c3535db34ff7": {
     "views": []
    },
    "2f7ea5992be24c18b54017d5881cf2a5": {
     "views": []
    },
    "301db2a8fca142f882c82079cd8f48d2": {
     "views": []
    },
    "303a10e2ca874e16817614a1cada7646": {
     "views": []
    },
    "30641cb639804d9da0fae1d500079e8b": {
     "views": []
    },
    "3076fd74daab4191ba8831a0dcefa15c": {
     "views": []
    },
    "3156f529793d43f880c9fd0c0ea61b06": {
     "views": [
      {
       "cell_index": 9
      }
     ]
    },
    "3161fcc87a254ebab82dde405bb75720": {
     "views": []
    },
    "318b8e00523d4e059b675c173d757a03": {
     "views": []
    },
    "319a40558b4141ae912d9dd445175a7e": {
     "views": []
    },
    "31f3c65fac4c454ba408a3414930f895": {
     "views": []
    },
    "32139327e33247a3a964299587d5285f": {
     "views": []
    },
    "321bbb8178ce4510a80a10609025d4c1": {
     "views": []
    },
    "32298b87944c4fcc96ed7a08ef727576": {
     "views": []
    },
    "32394da78517448885c67712fca8bde5": {
     "views": []
    },
    "324551de1fe149f2b9858cad00a955c7": {
     "views": []
    },
    "32598fc4a16b4bde8bcdb62f618e08cf": {
     "views": []
    },
    "329c5252f8cf411e825ea0d18d2eb0a6": {
     "views": []
    },
    "329cb6152fcc4675bcc463fd8badae0f": {
     "views": []
    },
    "32c78536ec7e442e8cfe339238ff7000": {
     "views": []
    },
    "32e9ba20061d41d7b42684039659816d": {
     "views": []
    },
    "32fad3a0f18942e0a40dbd8819100975": {
     "views": []
    },
    "3303aee6ca7d43ab8143b2abae2edc92": {
     "views": []
    },
    "3350fa2abc66409aa8513f3a172931a0": {
     "views": []
    },
    "33eec3d343f440aab86934d4b4d4e25c": {
     "views": []
    },
    "33f6a7670519431680f72e2a7f1c2bb0": {
     "views": []
    },
    "3446e7106cbc4b03b54a8f0883602094": {
     "views": []
    },
    "350ba4be4a57464993336ddd1c2c8521": {
     "views": []
    },
    "3546d9dc2a5e468fa7003499751e212f": {
     "views": [
      {
       "cell_index": 7
      }
     ]
    },
    "356e39d6f8a646639094ad42a3db8ba7": {
     "views": []
    },
    "366df8bee942470a90b7fae291548dd3": {
     "views": []
    },
    "36fcc5a7dee14f1b9612049d446a299d": {
     "views": []
    },
    "371d09b3fc3c4bb5810bb2a297f9ec80": {
     "views": []
    },
    "371d7b43deb247d3ae7cc7b9b897d99c": {
     "views": []
    },
    "379cafcd1d9543568d702c96ca21dedb": {
     "views": []
    },
    "380a822784de4fa3ae88279d55810fba": {
     "views": []
    },
    "38237c82ab2145d89bad49389131b1b6": {
     "views": []
    },
    "384c409c23664766bb188c6fa66455ae": {
     "views": []
    },
    "3856b2694d774484954b889c61984863": {
     "views": []
    },
    "3858cdf894e44bcfbc67a87468483ca0": {
     "views": []
    },
    "386ca45c778d46d3b98d322de7146074": {
     "views": []
    },
    "3963ae77c4fb4ab09519b06d93e0af46": {
     "views": []
    },
    "3977425517714ba3b063c53dd03e7614": {
     "views": []
    },
    "39828964c9864ac8a41609f8b3092c79": {
     "views": []
    },
    "39946305ab7a41af940682f9f1ef1624": {
     "views": []
    },
    "399670537c644f0abff5f3328a8101a2": {
     "views": []
    },
    "399ddb8ce0cf429f8b643994757f6e14": {
     "views": []
    },
    "39d077032c284d09b91bf915ebeda851": {
     "views": []
    },
    "3a596907eb1249e9b5bb6eda58fcd8db": {
     "views": [
      {
       "cell_index": 10
      }
     ]
    },
    "3a851a045b9f48bab8110d22c413d813": {
     "views": []
    },
    "3abddbcc614d495284c173bd8d82f1ff": {
     "views": []
    },
    "3ae3574cb2604ec1832d19a789f5809c": {
     "views": []
    },
    "3afa14d9682f4fb488f03f4d4a05864a": {
     "views": []
    },
    "3b0b84834c1347c49cfbd6a4fa89aa0b": {
     "views": []
    },
    "3b2095072bb941ca8e3c660f39d119b0": {
     "views": []
    },
    "3b3629d640e04337a9ce800a12973400": {
     "views": []
    },
    "3b7a4b2fbd1647c09de4e28dd8b7a0e3": {
     "views": []
    },
    "3b7e1e36074d446ebe282bdcddbdcb98": {
     "views": [
      {
       "cell_index": 7
      }
     ]
    },
    "3ba6b89f22c94728ba0dea574a2e58ff": {
     "views": []
    },
    "3c0af60a45974ecdb886ee2bc1958310": {
     "views": []
    },
    "3c1874ef3a08487bb1c087172028680e": {
     "views": []
    },
    "3c3b1794792b4d51b595da4895fffcc0": {
     "views": [
      {
       "cell_index": 7
      }
     ]
    },
    "3c3bfb2b62bf4b899646026c36b347da": {
     "views": []
    },
    "3c8484a8c4de4ae09d09b6c3313a960e": {
     "views": []
    },
    "3ca034cec9e94d70a487fadd56dac46b": {
     "views": []
    },
    "3ced3b573c9b4a9499ac5d5f3f54fb2a": {
     "views": []
    },
    "3d24f00c88c0488ca8ba312a1030862b": {
     "views": []
    },
    "3d648cd851cb47f5a043c923b7dcb737": {
     "views": []
    },
    "3d6c638d1b2d4489b57ff25c528ed7d7": {
     "views": []
    },
    "3d78045be2f04140a8128f6ad1a2c587": {
     "views": []
    },
    "3df9d2fdb6d34c86bed243602ffdf16b": {
     "views": []
    },
    "3e7a1ec35b7d4e4e941afcdbcaf58f1f": {
     "views": []
    },
    "3f345a449a404ed09cad6b4e169b3839": {
     "views": []
    },
    "3f45ca49839b4b77b598552813d1cc96": {
     "views": []
    },
    "3f520c2c544d4dc49cf7e63c84ccd020": {
     "views": []
    },
    "3f5eff85afb24b5fbb0f879c9ca3a7e3": {
     "views": []
    },
    "3fb948be6f1d416fba951eff9c31229b": {
     "views": []
    },
    "3feeccb1d60245a88f184bdd002a511e": {
     "views": []
    },
    "410630f4793148c3be51f59f2d7138ab": {
     "views": []
    },
    "414bb178e6bb4b3abb17463a942ba795": {
     "views": []
    },
    "41d7a47572bb4720b359b0c00f09838a": {
     "views": []
    },
    "4222f82ea8474d31906331f2713c65cc": {
     "views": []
    },
    "42c37c92923d4422ba3ee6c3b08a234d": {
     "views": []
    },
    "42ce1143d9ca419c885695774006d629": {
     "views": []
    },
    "42e424f6cefe4d3e9c89a95e4c151dc6": {
     "views": []
    },
    "43185cebb0154eefb0de591f7c6ffe0d": {
     "views": []
    },
    "433ff2fe1743461cbcce1b2938cc1288": {
     "views": []
    },
    "439d72f6dfcc4f8a80c48ba286a7c89d": {
     "views": []
    },
    "43c9adebf7a7473ca9ca58887a841c3a": {
     "views": []
    },
    "43e73bcc1c804e3fb018e50a9c1d1432": {
     "views": []
    },
    "44267d929caf45eeb1c1bb6380ffd57e": {
     "views": []
    },
    "448e994c6ac142a69c672a8b812016fb": {
     "views": []
    },
    "44a512942f33409d85a2baa929dfdee2": {
     "views": []
    },
    "44abe8c93f1a4bcc853e1bf9d0d446d4": {
     "views": []
    },
    "44f2e4aab49041e887be03055f88d778": {
     "views": []
    },
    "451af899617441638d24f370644d5bba": {
     "views": []
    },
    "458bf7053b174004b03ee77c412ffd42": {
     "views": []
    },
    "45b14b4e18ad41e284b62833254642d3": {
     "views": []
    },
    "45d20a6da82e4f5eae720216e9247f7c": {
     "views": []
    },
    "45f20e663b1d47c6b810c4b995d65ac3": {
     "views": []
    },
    "45ff7a5847c048a6aa76d5e870205376": {
     "views": []
    },
    "461843a9f73d48bab6de2e494a596d13": {
     "views": []
    },
    "461d903cd20544eeb72f7b2600ee3d88": {
     "views": []
    },
    "4629f98d775c420e8c2ab2f2bf96fd9b": {
     "views": []
    },
    "463c441144394afdb3662568f56364b2": {
     "views": [
      {
       "cell_index": 6
      }
     ]
    },
    "4641590134a64ada9e7de44ad3b2d788": {
     "views": []
    },
    "468ff1263bc044f1acdbcbdce4a3f9c8": {
     "views": []
    },
    "46a229570aab4b0db1dc9e39f3e5408e": {
     "views": []
    },
    "4763876d0af14768a103a27e28e1b0e9": {
     "views": []
    },
    "4799a349ff694f6da9a7fa76848c69e8": {
     "views": []
    },
    "47c1054153344f76aba1603e55fd854b": {
     "views": []
    },
    "481ab10e062a49b29cbec841082911f2": {
     "views": []
    },
    "482219d26d7e475f9db3e2a66f056344": {
     "views": []
    },
    "48a3bb5a75e644dbb693016fd65e25b3": {
     "views": []
    },
    "48f39da2fc194a0c8ab01916ba9a231e": {
     "views": []
    },
    "4903bca960644a2e993885adf4fcbf63": {
     "views": []
    },
    "4904c1c6bf4c44199d8209613254127d": {
     "views": []
    },
    "4966fddcd3414efbb1a2b4c8496b0040": {
     "views": []
    },
    "496ca910b6a94b8fa48b02962288ac63": {
     "views": []
    },
    "4972fb2bd5c64d50912dcc289c87ee8e": {
     "views": []
    },
    "49785d35078a4121a3a44a11ad0779ee": {
     "views": [
      {
       "cell_index": 7
      }
     ]
    },
    "49b5e01be7f94127b76ea604be844389": {
     "views": []
    },
    "49ebcc4169634f889c53e7a17fdb1f44": {
     "views": []
    },
    "49fde4e690574c968000fdeaed558fc7": {
     "views": []
    },
    "4a0ce6de54934638aa156da679bc5720": {
     "views": [
      {
       "cell_index": 10
      }
     ]
    },
    "4a1639dd756e4b639496326a532174db": {
     "views": []
    },
    "4a2f26f963fb4fc0bb367d6fc6f31218": {
     "views": []
    },
    "4a600dd02b384c16a6581dbebfdaf501": {
     "views": []
    },
    "4a6206ddaf644d97ab9c28df6cadb1b8": {
     "views": []
    },
    "4a653a143dc54eb78337059d0e363521": {
     "views": []
    },
    "4a84b87b075045b4a4cf657a186d9886": {
     "views": []
    },
    "4ad0fce530e74b7485e6d25c6f2d9a06": {
     "views": []
    },
    "4b09472b017844bea20dd82c843927d3": {
     "views": []
    },
    "4b5e807559364bcc8b83bff483dcdd7e": {
     "views": []
    },
    "4ba8eff2c0594b219063672e0ff57cd2": {
     "views": []
    },
    "4c6a2b131e904e2ca162d288750e31c0": {
     "views": []
    },
    "4c74914879b84542b223eecc197e190b": {
     "views": []
    },
    "4cb4d5f4ccde41b3a73f03d0a70bb8da": {
     "views": []
    },
    "4cef9033016049519a4bd17fbf479673": {
     "views": []
    },
    "4d7600ecb03b442cb89109636d147d88": {
     "views": []
    },
    "4da806b158b04a47a5775e7ebeed8fd2": {
     "views": []
    },
    "4dd3c7d4f155413896534b96242abfab": {
     "views": []
    },
    "4dd5aef3fe3b47acb6e55dc55319f416": {
     "views": []
    },
    "4e0e2225c290423bbc813204a70d57a8": {
     "views": []
    },
    "4e327235ea764269a9952b0581bf1213": {
     "views": []
    },
    "4e752ff9ea73488f8623259c24ab206d": {
     "views": [
      {
       "cell_index": 10
      }
     ]
    },
    "4e8d9c189b234f51ac87612501f22518": {
     "views": []
    },
    "4ea118f609054d44849e4b30d525f668": {
     "views": []
    },
    "4eb26d17f83b4086a9ab77561656904c": {
     "views": [
      {
       "cell_index": 6
      }
     ]
    },
    "4f17c47fff6b4abb87bc98251b86d487": {
     "views": [
      {
       "cell_index": 6
      }
     ]
    },
    "4f47c23e517441b993f657e27789096d": {
     "views": [
      {
       "cell_index": 2
      }
     ]
    },
    "4f79663ace4b4205a5b470532fc83322": {
     "views": [
      {
       "cell_index": 8
      }
     ]
    },
    "4f9510ae9651469788da360b7b255ff1": {
     "views": []
    },
    "4fdbd806ebeb472f84e7435383887b74": {
     "views": []
    },
    "50050e37d64444a383011510fe024886": {
     "views": []
    },
    "50065f2d00c4418c9c953978aeeeba9a": {
     "views": []
    },
    "5034255825c74ca5b8ef27066b2f7f16": {
     "views": []
    },
    "50bf38d2ba004d30bd8524196aaa74fb": {
     "views": []
    },
    "511ff16fd38e4f2d81ca72de7e4b7449": {
     "views": []
    },
    "5134840c91f74c89947ea50f09fecafd": {
     "views": []
    },
    "5150fb6d0bcd42b4aaffbd6ca00bb01f": {
     "views": []
    },
    "51849f2dc5d24aac8c62ba589a1f14f1": {
     "views": []
    },
    "519c55f153004ff39aa40e07ff529219": {
     "views": []
    },
    "51a4dab5aec249b090319cb42b51e45a": {
     "views": []
    },
    "51a4f8d030d4487da7fcb3ac41b6fd75": {
     "views": []
    },
    "51b6400fecc74e828734d94919ea3cae": {
     "views": []
    },
    "522e029cb5a8443db23f0510848cbd5d": {
     "views": []
    },
    "524ae90027ec47b7917915625c361549": {
     "views": [
      {
       "cell_index": 6
      }
     ]
    },
    "52a4a9192de5478197ccd9c7db4cf1e3": {
     "views": []
    },
    "52a4dfc6dc364d80851db3c15a7422b6": {
     "views": []
    },
    "52f9011b2be24467bed6f19b9b690832": {
     "views": []
    },
    "533708d7245e46b3afc7f53cf967a607": {
     "views": []
    },
    "53d5bfa2228e4a2382f7d00a8f50f878": {
     "views": []
    },
    "549914e9796e457fbd6f02f4ed77aa6c": {
     "views": []
    },
    "5545e9f0a4a74691a61d3e1f133377ea": {
     "views": []
    },
    "5578feb64dd6441bbf791aa9ac566dd9": {
     "views": []
    },
    "55998f4ceba845b89809fe373f70766f": {
     "views": []
    },
    "55a67dcf444a45f4a5deaa1134790628": {
     "views": []
    },
    "5688a4b5bf5c4fa3b0db3f52b28b0def": {
     "views": []
    },
    "56bafaafa97147f098bd78d4405324c0": {
     "views": []
    },
    "56e0467644ad4bf18f2e0c1f77bf9c14": {
     "views": []
    },
    "56e87b4d510c4d9db46ea2bdfed0c0ed": {
     "views": []
    },
    "56f83f96395340d283afd1b692c35f56": {
     "views": []
    },
    "57394d6a21c64877804660710c6eb8c4": {
     "views": []
    },
    "57603fe39f7b4e8c8b49e18dfc2e3691": {
     "views": []
    },
    "5871a7fa1198496aade9adf8c7cc1cb7": {
     "views": []
    },
    "58d90d7de5de43429db8d5d55c9f8de3": {
     "views": []
    },
    "593a6660b6b64cf78cc285328acd9ced": {
     "views": []
    },
    "59aba7176f50469a83a0129b22fb807b": {
     "views": []
    },
    "5a6819703c484d9898b761de6f41803e": {
     "views": []
    },
    "5b1db126a5874324b7e029aec93b964e": {
     "views": []
    },
    "5b3691a0b8e643b5954673470e3b24ec": {
     "views": []
    },
    "5b6c6a18ba9940c2b411e07e1cb7b126": {
     "views": []
    },
    "5b92730889554b8cb45fcf25e23d0c31": {
     "views": []
    },
    "5bb29b54c9bd4b6580aeca8aebd70763": {
     "views": []
    },
    "5c2f42fd0cf947dc8dcdaebf88e74659": {
     "views": []
    },
    "5c2f8867a35d430aa58fe30d008de9a9": {
     "views": []
    },
    "5c5279a0d5b04b43843610bdfde0f3c2": {
     "views": []
    },
    "5c9c84394b844b64b7b12bf88b7c7924": {
     "views": []
    },
    "5ccddc15fe3b4a54b43e2bd94fbff24d": {
     "views": []
    },
    "5ce87fca7b6746ae9ad7b91fc6141d57": {
     "views": []
    },
    "5d329f4d2d444a1389235e6f3eeecf8c": {
     "views": []
    },
    "5d3d45fc5c4445bf9863c65fc9ed8a40": {
     "views": []
    },
    "5d853a56fa8c4241a150d508e4540d14": {
     "views": []
    },
    "5d9287a7322445f59cc3f24b9130772b": {
     "views": []
    },
    "5d93472fc08f44189af5c2b492d3378b": {
     "views": []
    },
    "5eb20e84da96451aadafb1ca19863fb8": {
     "views": []
    },
    "5f2160298a604cce943f538354e9d4fe": {
     "views": []
    },
    "5f4828e0c7144a498943a486aed5b79d": {
     "views": []
    },
    "5ff1161e6a4c4178b3c7467ede7dfe8e": {
     "views": []
    },
    "602b580a0ab5451e8a4a80365d993344": {
     "views": []
    },
    "605c75c9074144d0b93636a36bc17fcd": {
     "views": []
    },
    "606ee329b52543078f6bd4383b163364": {
     "views": []
    },
    "609788e2242f4d818be28b1c5b4eb160": {
     "views": []
    },
    "60a1b05a417f4f2cbe39e91960889eaf": {
     "views": []
    },
    "60cbea8039f743618abcd5ffa6e58a00": {
     "views": []
    },
    "61118bedaa734bd7af1908be1781eb3e": {
     "views": []
    },
    "61483932655f4f7f88a10d3be0db93fa": {
     "views": []
    },
    "6265bbd95ce845c59c051c2729cec0aa": {
     "views": []
    },
    "6298f7464bb74b9b84e9f2f29ef2bc87": {
     "views": []
    },
    "62ba61ccc5f346b3ac0f56a707ebef45": {
     "views": []
    },
    "638f3ecbc5c041579c5db72b6c62cd5b": {
     "views": []
    },
    "63cc7767f81546d1a794b48dbb1a5bb3": {
     "views": []
    },
    "6454100e344c4ac49e4a0f76702fac16": {
     "views": []
    },
    "64b7ccaf9ac64b86b9f8cbef312e70af": {
     "views": []
    },
    "64d3e47b512c4336b557e349d900cf56": {
     "views": []
    },
    "64d657265f784e928cf5aa28ec8ea3bb": {
     "views": [
      {
       "cell_index": 9
      }
     ]
    },
    "64f1d8e5906f4841aa395a8062498153": {
     "views": []
    },
    "653ed549a039434d9b5a2ccd72d0a01d": {
     "views": []
    },
    "656b964178f948f392d603733a55e440": {
     "views": []
    },
    "657ee3586fd0497890e07446fe4e6303": {
     "views": []
    },
    "65ce4899b0df47deadcbe09e6d615825": {
     "views": []
    },
    "65d633f3cb0f49318fa9c5f6667fc69e": {
     "views": [
      {
       "cell_index": 7
      }
     ]
    },
    "666a634afbd441129b01cbfc60ef98eb": {
     "views": []
    },
    "6696083fe8e04c13975355c463339c2f": {
     "views": []
    },
    "66a8d17224b84388977730891e59e365": {
     "views": []
    },
    "66d328af4c874a2394fc397d0abe9b5f": {
     "views": []
    },
    "679bd6baef684ddd8f20eb081333c1ec": {
     "views": []
    },
    "67d348d593ba448cafdc623ea8e4b4ff": {
     "views": []
    },
    "6810ca8d851e425bb77751d91d1ea732": {
     "views": [
      {
       "cell_index": 7
      }
     ]
    },
    "687cc7f354ad4bcfa82d87fb6d600c3a": {
     "views": []
    },
    "68831458a25b43bd821205d79629e16e": {
     "views": []
    },
    "688fbd299a2a4f1e9655c7a9bf16db56": {
     "views": []
    },
    "68b9fb648b2a4b2fb6aaf1e883ef88e8": {
     "views": []
    },
    "68e7eb1d966d4aab95ec5bf487f67be8": {
     "views": []
    },
    "694bd57d9392484d889e6eea94a35c3f": {
     "views": []
    },
    "694c5d71b7ae498ab7dcb7f326b3d262": {
     "views": []
    },
    "69546fb94b734ed7ac17c0cd23095df6": {
     "views": []
    },
    "6969fdc5151d46c0b58172588a3c83b0": {
     "views": []
    },
    "69fdd65b3bec4083a4dc75cd8f040a15": {
     "views": []
    },
    "6a0d2cd452c8447e807a7791344f4f3c": {
     "views": []
    },
    "6a1a384acf7e4cf2ae8266ba267d16cd": {
     "views": []
    },
    "6a3be9268af344b89bba9dff65de322d": {
     "views": []
    },
    "6a99b7cfdc5747c4b38dab74632f5a59": {
     "views": []
    },
    "6a9df68924f44b7bb9fda609b3c420ad": {
     "views": []
    },
    "6af8abe9df154637857b6eaf70922ff9": {
     "views": []
    },
    "6b1636e228484c1891af32d1d274c7f8": {
     "views": []
    },
    "6b32c4ea7edf4038ac23955d9210e93d": {
     "views": []
    },
    "6b4fc87cadab4d2ab389f9d64dbe8702": {
     "views": []
    },
    "6b6e1d2ccb34410b95b477241e1a6fe1": {
     "views": []
    },
    "6c6ee6b3c8b747229109f28bf372565d": {
     "views": []
    },
    "6c7e616e37fd4da59682a6c7d0bd5af8": {
     "views": []
    },
    "6c9bc49e89494f6c8661a45273e6a49a": {
     "views": [
      {
       "cell_index": 9
      }
     ]
    },
    "6ce5753cfd0d4bbdb236e40691942e6b": {
     "views": []
    },
    "6d1af0c6109e4b2aaf2b7ec8dcd6628f": {
     "views": []
    },
    "6d684a90534c4a0a9398722235977623": {
     "views": []
    },
    "6d6f53f891db43c9be678e8cf704af81": {
     "views": []
    },
    "6d7ddb093a4647b8b1def9e0ea02881c": {
     "views": []
    },
    "6de90a4787a34d3783d19dd5a56f075a": {
     "views": []
    },
    "6debe51b7a724b3a92249e67fe3f89ac": {
     "views": []
    },
    "6e098b2b7f504155817a262441af68c6": {
     "views": []
    },
    "6e10a4347fe743be8fb8a69f0e80fe5a": {
     "views": []
    },
    "6e52cc30a49a4f62aee0f695c97c34c1": {
     "views": []
    },
    "6e72a35c01d4428ca4d1c01097d66375": {
     "views": []
    },
    "6ea5a6fd6d514ea28789134a797e2cb0": {
     "views": []
    },
    "6f2f2a25330e4d9399e3ed8095de8365": {
     "views": []
    },
    "6faee92865d047b98930a3082d75d02b": {
     "views": []
    },
    "6fb2bcc44b154061adf035dd4c35b4ec": {
     "views": []
    },
    "6fb7f76cda2340f3a3347238276288c0": {
     "views": []
    },
    "6fc437e8f6e445d7a6f47fa4b17f3507": {
     "views": []
    },
    "6fee47676e3a48b5860d513179150f72": {
     "views": []
    },
    "700801578387493da18b703ea26c2d8d": {
     "views": []
    },
    "70081bd3a52d4969baf12e34ba6939e2": {
     "views": []
    },
    "701ab2efe1d245279d414daea63ac007": {
     "views": []
    },
    "70a47a79e2cd4f338e2637a0a5265408": {
     "views": []
    },
    "70fdddf9b64145bfa10d4b59bcac9e71": {
     "views": []
    },
    "7109af41679f41ebbdec05dfffd192bf": {
     "views": []
    },
    "71690c54c54b4453861a8d68f7d02b38": {
     "views": []
    },
    "718c397eae934e188c791f51bb908f7a": {
     "views": []
    },
    "719a6258fd474bb2a6eedb229bb72d03": {
     "views": []
    },
    "71c8b5b860624355a061b58dd517347b": {
     "views": []
    },
    "72150c4619a64bc4988ec6404799c724": {
     "views": []
    },
    "7269963149dd4457aafbe0b8d1d50465": {
     "views": []
    },
    "74378e357ac143348d13709a059b329c": {
     "views": []
    },
    "7447bc651831499e9e16d640e3b3aa40": {
     "views": []
    },
    "74897385cd384811a292efb16f3c03af": {
     "views": []
    },
    "74964de816604edeb0b19ba9a1306529": {
     "views": []
    },
    "74bcd805a4fa4405b2b413ba3c441a1d": {
     "views": []
    },
    "75b367c04e1d471aad5d76b0dc36e4c6": {
     "views": []
    },
    "76770695f41341fd8be2223b16bfc86e": {
     "views": []
    },
    "769fe76a12a34f77b6f1dee442483cdd": {
     "views": []
    },
    "76d607bc55264c55a26b46d2b7f4ae1f": {
     "views": []
    },
    "77192af271b24fd8b5bda54be3a626a4": {
     "views": []
    },
    "774ec32baff7499fb38c47d9710cce78": {
     "views": []
    },
    "77520fdadf8b489a8c172e35855d82d1": {
     "views": []
    },
    "777056244ecf4b14a1bc0ef9745891bd": {
     "views": []
    },
    "77c7441a4a3748debb658bf826cf48a5": {
     "views": []
    },
    "77c7d6e755664f6794924925d1ac5a48": {
     "views": []
    },
    "783a2fe38f9c4925807042bedf58e36b": {
     "views": []
    },
    "788708c0615e467c9bac8bbbe624d99e": {
     "views": []
    },
    "78a4b4ac80d54667b7c28d845ae319e6": {
     "views": []
    },
    "78ffb74626a64639a21f318e0bafd45a": {
     "views": []
    },
    "7922b6b6ee1146fe91ce600c5bde9566": {
     "views": [
      {
       "cell_index": 7
      }
     ]
    },
    "792ac03149cd428e96ff262e6ba9cef3": {
     "views": []
    },
    "7930e9d278cf41929a6f5f021ee8ac8b": {
     "views": []
    },
    "796909f2f0ed4a8ab88f9bc67a166813": {
     "views": []
    },
    "7970efe915cf4e72b28177facee3570b": {
     "views": [
      {
       "cell_index": 7
      }
     ]
    },
    "7ac344b7602a4125aa6ace8e3c89290b": {
     "views": []
    },
    "7acf33c1fc6e47c9ac908ed500920ece": {
     "views": []
    },
    "7b0bf96d63f0471787baeb39499ad8ae": {
     "views": []
    },
    "7b8f8032940e46f7bbe2581f7262bbbe": {
     "views": []
    },
    "7bbccb3fb8d04b029b2da10673d0be5b": {
     "views": []
    },
    "7bc82ea6843d48838c1832d161b70117": {
     "views": []
    },
    "7bd2eea592334395a7c6f2c6894971f9": {
     "views": []
    },
    "7cb0c56ffa08411f84cf99d77c656368": {
     "views": [
      {
       "cell_index": 8
      }
     ]
    },
    "7cd6729391b746cf9310b90acd101b7e": {
     "views": []
    },
    "7d364ec94ea640e398dc17dadfb5c2d6": {
     "views": []
    },
    "7d72d4783c4a449d9f0a8ae3e60aea80": {
     "views": []
    },
    "7dc3db1a7aa540b8b2851a558ae042a0": {
     "views": [
      {
       "cell_index": 3
      }
     ]
    },
    "7ea7495da25a430997017c0b8bc18a2c": {
     "views": []
    },
    "7ec24e103f8743dc9391238c2f8dec92": {
     "views": []
    },
    "7ecdac438f3f4649a14c735710677f94": {
     "views": []
    },
    "7f2e165e43ed497fb791931525fbbf61": {
     "views": []
    },
    "7f3e3c95b4d1490b9f1ffd4aee0f8eb5": {
     "views": []
    },
    "7f91a295bd814914b2ffea34f2631ee2": {
     "views": []
    },
    "7fa1fa440439472ba7ef3fab9f1db239": {
     "views": []
    },
    "800b8b8e54f246a5a356f865a148e6a8": {
     "views": []
    },
    "80238ad30d1f4666b9f3c3d637903a09": {
     "views": []
    },
    "803f492ba1594213a290ab22876500ff": {
     "views": []
    },
    "80646da878204f9cb3aaf41bfc85dce2": {
     "views": []
    },
    "809e39bc77e04dde82465de18ceeb03a": {
     "views": []
    },
    "80b32d44421c45d4a9b18779d94d8c15": {
     "views": []
    },
    "814a91a80cf24e9c9fc9eefd71f5514c": {
     "views": []
    },
    "8181e53322004cc5a6dce4b263e8a238": {
     "views": []
    },
    "81c6d23c48894d8db017497940392369": {
     "views": []
    },
    "81c7add6032e4190905039b5c25855f9": {
     "views": []
    },
    "822ae02952954df29231345583f07d1d": {
     "views": []
    },
    "823a3e00c6604907bc70b8b8c088e0b8": {
     "views": []
    },
    "82984d473ffb4a57843e6ee5e198c8e8": {
     "views": []
    },
    "83053b3dc6ec4467ad487a91b194eecb": {
     "views": []
    },
    "83f0794a7dc34c52af028031bc6bb183": {
     "views": []
    },
    "8405481fb5a6435983765df7b5a74c6d": {
     "views": []
    },
    "84072514670045b7a6a41cd0856038f3": {
     "views": []
    },
    "84f5e7cb7ad247f788a3f01b4b5d9606": {
     "views": []
    },
    "85969a34813e4f4c815cc4ed703743fe": {
     "views": []
    },
    "861c370ab6b7467da5c87b64abec3c65": {
     "views": []
    },
    "86a2c32586cb472b8ee77d8797e7d326": {
     "views": []
    },
    "86eaaae80e864222bc1aa492de2c58c8": {
     "views": []
    },
    "8726cea909a945c69351b45a101fb0dd": {
     "views": []
    },
    "87349333fdf548ac95bf96a72b7d614b": {
     "views": [
      {
       "cell_index": 8
      }
     ]
    },
    "87bb065442554c4d94133dc5b687a7bd": {
     "views": []
    },
    "87df37c668c3473c8e05ce20b6fdc306": {
     "views": []
    },
    "87e48879a44d4f5ca0ec122071f948b1": {
     "views": []
    },
    "87f0e1b9b09b4285928e49bdce5b43c2": {
     "views": []
    },
    "88fbdc13df5a4abcb496af352dafaa00": {
     "views": []
    },
    "8921953aea4143d88a1bce20cf93dad1": {
     "views": [
      {
       "cell_index": 8
      }
     ]
    },
    "892421621ee048b9bbb674c5ab9eaf6f": {
     "views": []
    },
    "8937b7050a94485c8b54f6d4f4fab3be": {
     "views": [
      {
       "cell_index": 7
      }
     ]
    },
    "89595c0ef232498dad1e586058360b23": {
     "views": []
    },
    "8981c47ce4dd4f18afbd95128f8a50ca": {
     "views": []
    },
    "898fee7c63134cb49108f73b66bfc309": {
     "views": []
    },
    "89bbc8de930345e3b10b35dc0ed134af": {
     "views": []
    },
    "89c40f96a8e34e91bf89597232f73601": {
     "views": []
    },
    "89c6ee4376544624ac1e1b03fb796401": {
     "views": []
    },
    "89e732c0396a4d5489e862cb48e56ce6": {
     "views": []
    },
    "8a5d7e78302646fdb29a4388e7cb0dad": {
     "views": []
    },
    "8a66c98e437f4b649f5d7b286214a02b": {
     "views": []
    },
    "8abef175e6494a9c8a5566641d4aad1b": {
     "views": []
    },
    "8b1d3ed6145e4b55b3545c7359e5f8e9": {
     "views": []
    },
    "8b97790e70e3457cb75b2df41aad0ed3": {
     "views": []
    },
    "8c15a0dc19c94b8bbcc698b7b1a7affe": {
     "views": []
    },
    "8c65ba95c48d40c499b816c4144aa27b": {
     "views": []
    },
    "8c68d89a503e427a947a76d5f6e0d9ce": {
     "views": []
    },
    "8cf72ac7bbfb4313a82691bf5993e27d": {
     "views": []
    },
    "8d063edad998438484172ecd085c775f": {
     "views": []
    },
    "8d541d2ea5bc483ab419111a11fd2d70": {
     "views": []
    },
    "8d6592d0ab024b1a93febe4278d70bbd": {
     "views": []
    },
    "8d6b0090cbb7487fb2022e8893dc7d53": {
     "views": []
    },
    "8db9b40f36c84c2fbee481885e3329cd": {
     "views": []
    },
    "8dc806076f684a93825a0e02e9b23b46": {
     "views": []
    },
    "8e83ce6b2b714b0b9fdbcf5a3873ca09": {
     "views": []
    },
    "8ed3863b53124cf18cdad4b499ded973": {
     "views": []
    },
    "8f49b85e60434344a8a3d8d0b5668b4e": {
     "views": []
    },
    "8f526277484047b9be6d733721a6c6c0": {
     "views": []
    },
    "8f82b2f0beec4e2f9ffcb86fbfd9ca24": {
     "views": []
    },
    "900e749111da41cda1d7f97bbe65f214": {
     "views": []
    },
    "9012ce18d8974ea0a35cf9c8714e6e2e": {
     "views": []
    },
    "901c55b78f4f4266bd2daaaa467e8ed0": {
     "views": []
    },
    "907e8732d4fc4dc0b36bbbcc2de2a659": {
     "views": []
    },
    "90b410c7c6be4b5ea049a5b7138bdb3e": {
     "views": []
    },
    "90d9193eaa3e4876888db744504c79f4": {
     "views": []
    },
    "9116696d8a8f437daf80463150c533df": {
     "views": []
    },
    "9178012c65d34ceea2b2ef21f545b288": {
     "views": []
    },
    "926741b579074bf0a67899ef0cd4f67e": {
     "views": []
    },
    "92ac283aaee64a009ce2850ae8277741": {
     "views": []
    },
    "92c64d3f18b64010a269fee8d27ac862": {
     "views": []
    },
    "9334c22730f44e15b2f1558583615c93": {
     "views": []
    },
    "93fc4e6cc7af416f9b6fdde9f7f64705": {
     "views": []
    },
    "940e474d634d4b01b86ddc6f5b635455": {
     "views": []
    },
    "94324ce218f24c7f84377a8dc9d288ae": {
     "views": []
    },
    "9441b13fa31b444a8eef4a8a5890433c": {
     "views": [
      {
       "cell_index": 7
      }
     ]
    },
    "9470a912a4164709b2b1153d6eb8d5b0": {
     "views": []
    },
    "948a0b5029174f07b2c79f29c2bcbbc3": {
     "views": []
    },
    "948ac45796554db19cb5fe713fb632af": {
     "views": []
    },
    "94b5a2b620dd42bc9b519579e60708a8": {
     "views": []
    },
    "954f9efcf8854ab8a819844bfc65e3ce": {
     "views": []
    },
    "95ce7ca9853e426ea417a851e600b444": {
     "views": []
    },
    "962c2c214de74f2ab8c36c2d9c7cd6b8": {
     "views": []
    },
    "96358f9f0fe74ea295e9412ded569644": {
     "views": []
    },
    "9637c82b171d4d7c853a891d60c6b151": {
     "views": []
    },
    "96c8260dcf654554868379e6c2437090": {
     "views": []
    },
    "9746602008f44807b89b63e9e1bb389b": {
     "views": []
    },
    "97cd02dfd0e94de3bc683d12493ad086": {
     "views": []
    },
    "97fda887e89641b0a113468da80ed6fd": {
     "views": []
    },
    "986086a36c81498c9c262b0643b80e0e": {
     "views": []
    },
    "98ac908bbf3347b3be5bda0937aace84": {
     "views": []
    },
    "99b29beae78048d7b5de0813e9b90b4c": {
     "views": []
    },
    "9a0f666604a843efad8ea0695722967f": {
     "views": []
    },
    "9a38b0dec113498cad2eab9d26e5290a": {
     "views": []
    },
    "9a3c7468cb1e4d32a8052813b8f17ae7": {
     "views": []
    },
    "9a79856a76a0465f8599a07689f46cb6": {
     "views": []
    },
    "9aa589c9bd1a4c2fa4df17fef9c94172": {
     "views": []
    },
    "9ad029d1398a46b7b42e06ddbb3b140b": {
     "views": []
    },
    "9b2588b438964de1b9dc04093a52a7c0": {
     "views": []
    },
    "9b922c19616a436d907f27744815a087": {
     "views": []
    },
    "9c2de036d4a9439387e504e630845fa8": {
     "views": []
    },
    "9c3fc1f4ed7c41c997cb6b564af88930": {
     "views": []
    },
    "9d1c9e49d78746eb973639039f737a21": {
     "views": []
    },
    "9d1f8732b36a42db82c1d3fad366e6ed": {
     "views": []
    },
    "9e059332735d4224aca114f77435e5b7": {
     "views": []
    },
    "9e7abd287e0849d289da926de3cd7354": {
     "views": []
    },
    "9e7e1dc680f1434397544c982b4fa267": {
     "views": []
    },
    "9f19716035e648ce94e7659c5f20b427": {
     "views": []
    },
    "9f2ae827da5843c3af3e0aa5f691c8db": {
     "views": []
    },
    "9f5d0bc4f56e4beeb03857e1027b98b6": {
     "views": []
    },
    "9f7b7da1f5434b6c8764bcfd733a9407": {
     "views": [
      {
       "cell_index": 7
      }
     ]
    },
    "9fc435d2150840eebeecc430800b22a5": {
     "views": []
    },
    "9fe14dca14fc4c0d898be1f15f666911": {
     "views": [
      {
       "cell_index": 6
      }
     ]
    },
    "a053f7b2c65b4740a5b81d60616eede4": {
     "views": []
    },
    "a0d79a00c2534ff18e76c5ed64a7b801": {
     "views": []
    },
    "a11b2dc3131d450a8f7e23eb09b19cef": {
     "views": []
    },
    "a16164194915483b9aac478ca7709cd1": {
     "views": []
    },
    "a1793aa9ecd94c44acae8f7e2ed4b7d1": {
     "views": []
    },
    "a18bac2336cd40c2b79af9e935f3b93f": {
     "views": []
    },
    "a1e88babd8454804a628cd63e1af81dc": {
     "views": []
    },
    "a1fb1ef7e91d4f27b2d26a823052ca78": {
     "views": []
    },
    "a2286455335d40a4b5110428f4f92d90": {
     "views": []
    },
    "a230bc2d286e4cf5af702329aa56c1bb": {
     "views": []
    },
    "a2c786b3f3e248e18ce6ef02ece6df3e": {
     "views": []
    },
    "a2dc4239e5e145f497331bb33a7dd666": {
     "views": []
    },
    "a3523d46e3bf489eb88ee81a3d5c092f": {
     "views": []
    },
    "a36f13636c9d46c3a3184c781790cb2f": {
     "views": []
    },
    "a37677f6a20a4b7180043464b2e4fade": {
     "views": []
    },
    "a3c0e7f190f24936baaaa6c746dddffb": {
     "views": []
    },
    "a49aa9603d934be1942cdb8289399d5e": {
     "views": []
    },
    "a4c2539ec4e44f21bccd842a77e500ef": {
     "views": []
    },
    "a4d0e03acc934ef2a6801c19cee9385c": {
     "views": []
    },
    "a5d299cce9034ccf8beb04b9f0cdd953": {
     "views": [
      {
       "cell_index": 9
      }
     ]
    },
    "a720ec9884e34558b8b467cbc0fc553d": {
     "views": []
    },
    "a76fb0b53ce64204a8285346957bec05": {
     "views": []
    },
    "a7e75908fc944a46a14867197156b28e": {
     "views": []
    },
    "a7f9c19ee6ce4eaa9dc48eb89144c856": {
     "views": []
    },
    "a7fab3707f504531af76c48843da5081": {
     "views": []
    },
    "a824b8cb4c494331991213dda61ef22a": {
     "views": []
    },
    "a88f14b8bdbe4566b199d32578a52674": {
     "views": []
    },
    "a9b1d24d49ed4fcfb0e67416257a57e7": {
     "views": []
    },
    "a9e57a571b25471f8af3edc03c06771a": {
     "views": []
    },
    "aa02337023ca4b0bae5edef0c05614b9": {
     "views": []
    },
    "aa13930b1ec34c38b3f9473b70d17062": {
     "views": []
    },
    "aa24701f95164775b211129f2108ef00": {
     "views": []
    },
    "aa92cac7052446dab5c902c5bfbe7b5b": {
     "views": []
    },
    "aab57f0fbc7940d68c7850b23eb8ad52": {
     "views": []
    },
    "aae355de544d48a688cfed6e21a0c62d": {
     "views": []
    },
    "ab901ce51d5946299d4689fc16268202": {
     "views": []
    },
    "abae7a4034084d42ab80ddd94128ec5e": {
     "views": []
    },
    "abdd5505e47e46cb817f9b69d4023c38": {
     "views": [
      {
       "cell_index": 7
      }
     ]
    },
    "ac63ca3c968b4ac3a46e8c4a3d739a29": {
     "views": []
    },
    "ac903264357d41b7b60803612ed023f4": {
     "views": []
    },
    "ac9ab3f133cf458eaf5dcbd04905e840": {
     "views": []
    },
    "ac9bf9c7eefc49668f751afc2c5aa465": {
     "views": []
    },
    "acde8f70945946058988b4bdb95535e4": {
     "views": []
    },
    "ad247c76746e448b8a1f65e009d872de": {
     "views": []
    },
    "ad532442f22b4836840342d596b94839": {
     "views": []
    },
    "ada3f078f3714afa88663be598a0552c": {
     "views": []
    },
    "ade1e993fa434e24b499e7a36fa82e72": {
     "views": []
    },
    "adf65b4f6e004543b8a593beea70edec": {
     "views": []
    },
    "ae11f3a1612e4b54ae398df66911f563": {
     "views": []
    },
    "ae48ad8c1d6e48418b7dae239be532ae": {
     "views": []
    },
    "af4a43c2031d412695750fcdb6c2666a": {
     "views": []
    },
    "b09f318fae5146cfa46deaa7b9e9bd38": {
     "views": []
    },
    "b0a5266dedc84151888f519e374efbaa": {
     "views": []
    },
    "b14eaec752e8485f8ce174b6e24dfbc9": {
     "views": []
    },
    "b18617cebf8147f98bd35f47829fbcae": {
     "views": []
    },
    "b1af57926a3c4d388ee58bb77b815637": {
     "views": []
    },
    "b1bef2b1cb2d4683a14a7b5859f53a4c": {
     "views": []
    },
    "b1c686c8791b42a7a9d796647ecb0d10": {
     "views": []
    },
    "b25cc3b8126944dab7b95c3773919f1a": {
     "views": []
    },
    "b2838e2a54f744fbacd0f7caed876f32": {
     "views": []
    },
    "b325ef9f64e443169aecbb25e76bdba2": {
     "views": []
    },
    "b3967637f8dc46b6adddc85aabf4ef80": {
     "views": []
    },
    "b3de0c48b9bd41739f388dd0923164bd": {
     "views": []
    },
    "b414f3561e084641b931fff1fefeba50": {
     "views": []
    },
    "b419feb4b950432196e5eb87d437e4f9": {
     "views": [
      {
       "cell_index": 9
      }
     ]
    },
    "b43eef81e4e3432e9a56babfacd8e3d4": {
     "views": []
    },
    "b457df6535b14ed7b438645d52bbf6bc": {
     "views": []
    },
    "b49121dc30de4effb1444ad6f82ac93a": {
     "views": []
    },
    "b4c14bc360964cd0825b27a8f4505f9c": {
     "views": []
    },
    "b4d2cf36fc464cb08b56fcce898bb768": {
     "views": []
    },
    "b55c4cb899ae4f0fa779ca90f8af4177": {
     "views": []
    },
    "b55f66647cc343d8a6658badd61c32b9": {
     "views": []
    },
    "b5a06fcc8a2348dea09b9c9529b6e987": {
     "views": []
    },
    "b5b39c54a5574814a86b4d9d9106efed": {
     "views": []
    },
    "b5ce4781be524ee2bd7268cc989a205f": {
     "views": []
    },
    "b5e02501a86540c3b2b462562343c797": {
     "views": [
      {
       "cell_index": 9
      }
     ]
    },
    "b60ddc4aada444c2933b0e9f6c5745f8": {
     "views": []
    },
    "b60e48d7e80b4c5e92eb55eec0bc5485": {
     "views": []
    },
    "b6830dd5debb44869325da307a839a74": {
     "views": []
    },
    "b69faa3f868f4a7191f02bf773040599": {
     "views": []
    },
    "b6a74f88fb7f4c0f8fe042093e2bc426": {
     "views": []
    },
    "b7016cc1fc16433ba0b933013b9ebc2a": {
     "views": []
    },
    "b765e9c6ff8f41249f64b47dcf546656": {
     "views": []
    },
    "b77e8b5c881a49dc8e77fca1c464746c": {
     "views": []
    },
    "b858756d359a4cc3be8b60c74cbe4423": {
     "views": []
    },
    "b872953c70924a7382c683fe061352e0": {
     "views": []
    },
    "b888ff26912a46ac9c1565f1d220a479": {
     "views": []
    },
    "b8c8e11ab6d74872a8005ceef365f9d8": {
     "views": []
    },
    "b951d56e420044f18a3f81ee523078c1": {
     "views": []
    },
    "b959c7421d3c4ee688b79a938149352e": {
     "views": []
    },
    "ba788ba9babe4b4296e46f03339e04a2": {
     "views": []
    },
    "bae52b5af8a14299a2b2aceaa0381d2e": {
     "views": []
    },
    "baf36606ddb54bab9636493a3820b2d8": {
     "views": []
    },
    "bafe7d4522f641c081fb54e525ddbbba": {
     "views": []
    },
    "bb0b2d0e82884145afa8d433409b8272": {
     "views": []
    },
    "bb1ce244ff874dc9a0a6911b0a26da5a": {
     "views": [
      {
       "cell_index": 7
      }
     ]
    },
    "bc65c1b14f4d4b7683c0ce33af43f51a": {
     "views": []
    },
    "bcb7d1154db24719a15be62d5b91ded0": {
     "views": []
    },
    "bcee5f4a9e374422833a52589b498d79": {
     "views": []
    },
    "bcf6115b9dcb43de94dc351bf294731f": {
     "views": []
    },
    "bd5d7d428a654b5186659f21f5505f27": {
     "views": []
    },
    "bd95a4554eed46daa633f7ca6b908181": {
     "views": []
    },
    "bdb773058d6541f99aeaf10212ac97bf": {
     "views": []
    },
    "bdcaeeb966fc4c98bfe54d11fdb294a5": {
     "views": []
    },
    "bdf34686381b44f19f94dcebb6989199": {
     "views": []
    },
    "be3874742c114139b1eca36dede20ccb": {
     "views": []
    },
    "be4d23c4c52a47e398abb6e4385f3285": {
     "views": []
    },
    "bec3ba4e985c490999462724a6d22f9d": {
     "views": []
    },
    "bf167e26d7ee4b4fa9e69742535c49dc": {
     "views": []
    },
    "bf31ab9283364f5386c096bdd0bb168e": {
     "views": []
    },
    "c00d02e7ca6c488f8a9a4195e4c7c6c5": {
     "views": []
    },
    "c0185ea5ec3f41839c1983c86e7b5e26": {
     "views": []
    },
    "c0973876f4e54bc9b846bdb6dbaa1d5a": {
     "views": []
    },
    "c356a72f3f1143fb85637e46cdb1fe14": {
     "views": []
    },
    "c360568d7f0e49f09ca01612fb2c8a9a": {
     "views": []
    },
    "c39241af95ca44e3ba9d7414c2c37163": {
     "views": []
    },
    "c46f538d823748c68b55be1dcd253b5e": {
     "views": []
    },
    "c46f6aeeb78f463b85000e3f43694c5c": {
     "views": []
    },
    "c47d3e2db45d433dbaa68bd5b88e2a5a": {
     "views": []
    },
    "c4e40220e2834198b3a2e64816513474": {
     "views": []
    },
    "c4f171a5356f4dc383de992104736213": {
     "views": []
    },
    "c56e6b2bd13146c0b362ee8f2c5af051": {
     "views": []
    },
    "c57239474dfe49719e16c6b0168241df": {
     "views": []
    },
    "c579fdcfb7c5480791c50b41787a503c": {
     "views": []
    },
    "c57d33342cb74a2abeada973be1d68c6": {
     "views": []
    },
    "c586be274a8d4b569b106edfe5849d35": {
     "views": []
    },
    "c58ee670a44848a5836a8a54287b70d4": {
     "views": []
    },
    "c5994c6a71af4201b3cf2ee9a881c6e8": {
     "views": []
    },
    "c59aeea30c1c485dba3042e5a661cea8": {
     "views": []
    },
    "c62b066aad2748b599d029808d23cbd9": {
     "views": []
    },
    "c66c4721762b46fda59a7a4fb9ee0d5d": {
     "views": [
      {
       "cell_index": 6
      }
     ]
    },
    "c66decbd305e4d01aabbfdd57cd5e6b6": {
     "views": []
    },
    "c698f34c19924c518df5367f99642f8c": {
     "views": []
    },
    "c702eb403fe4475e8bd7e70b911e9eb1": {
     "views": []
    },
    "c7161ea262104adc807403c7c2e4e0b3": {
     "views": []
    },
    "c75802467e524ad3b4818183f407d095": {
     "views": []
    },
    "c79879386e704b2084b8e7a22f2c270b": {
     "views": []
    },
    "c7a2e7cbb3504343a85a46bbf7f00b55": {
     "views": []
    },
    "c7b055305f4f48179f5f7240cf47ec3c": {
     "views": []
    },
    "c7f00b3d7ec142b89ec38736fbded88a": {
     "views": []
    },
    "c87f387aa28c4a06a1f7f568f8dc2020": {
     "views": []
    },
    "c91be87955154dfc933880c6e93efe38": {
     "views": []
    },
    "c97107a32f2c46dfb8fd931c8a7a2df3": {
     "views": []
    },
    "c9955c0b89a042feac5f0fb0b74de2a3": {
     "views": []
    },
    "c9f58327de8f4f8a86e4c2b9bbf3b484": {
     "views": []
    },
    "c9f85add27384fa1bf01d3d75fa7b755": {
     "views": []
    },
    "ca0529c0c20b42d4bc9cd689186c41d9": {
     "views": []
    },
    "ca278e2c40b043ae93a734cb39252af4": {
     "views": []
    },
    "ca634c8e99bc4bed9de1591e38649330": {
     "views": []
    },
    "cac64fb28c3543c899f0dbb1e57003cc": {
     "views": []
    },
    "cb0dce609b8e48dc97d0df311bbe66b1": {
     "views": []
    },
    "cbdf279f0f4845a3a44c3ca9f815048e": {
     "views": []
    },
    "cc1b8837727c414b9ff377244f0a8432": {
     "views": []
    },
    "cc4a26a1062c42ad9ce50651d0a075bd": {
     "views": []
    },
    "cc7184bb1161489a959c6a925ab38bf2": {
     "views": []
    },
    "cd398682e7e84f18bc73dcccbc26abf8": {
     "views": []
    },
    "cd40538aa4a94525b0dc870a0a007fbc": {
     "views": []
    },
    "cd4d9d556d004977adf8f14b743586d0": {
     "views": []
    },
    "cd70ac07c06b4ee582ec810454fad0b5": {
     "views": []
    },
    "cd75861add0e4867b566bc4b145904b5": {
     "views": []
    },
    "cdc6eec5e64c4305b5061a58296fbb45": {
     "views": []
    },
    "ce0570f6756641d99020faffb414b125": {
     "views": []
    },
    "ce06cc8cef1048c7a80c03c326447fcd": {
     "views": []
    },
    "ce9935f4298140a38cd552889fbde385": {
     "views": []
    },
    "cec34b088ef6448fba44c92bb8c3d1fa": {
     "views": []
    },
    "ced1f97d79624a558a7bbe744a2e6ce1": {
     "views": []
    },
    "ced8c54d1e0f4aa1a70129f76250422d": {
     "views": []
    },
    "cf10a4af7ea340cdbe7467f0d6b7c51d": {
     "views": []
    },
    "cf4b83aaed1f4e53982b749da997b82b": {
     "views": []
    },
    "cf8ad1b1bfb149cdafd8e81131d2741b": {
     "views": []
    },
    "d01e88688e2e40b0997c2e546829d3b1": {
     "views": []
    },
    "d0351ea7f38645dd8aae04ecda3b671b": {
     "views": []
    },
    "d0b998cd0b424b2db52d79d6064b5e23": {
     "views": []
    },
    "d0e6389cedd942028c4f8707f06af0a2": {
     "views": []
    },
    "d1c05331544e42ebbaecc68e341217cd": {
     "views": []
    },
    "d1c7c2dc811548a2a67bd10b94b59a58": {
     "views": []
    },
    "d1db0bfcdfae4c6b830be60793c555f9": {
     "views": []
    },
    "d1e87b70ae5b48108c0f91e0149875e2": {
     "views": []
    },
    "d219f971eee94508b302dc6528c8c48c": {
     "views": []
    },
    "d22e7343ff614071a3227cc8ee4204ee": {
     "views": []
    },
    "d23c80deffee4a0888bf0a360bd864ec": {
     "views": []
    },
    "d264dbb0d45d4934b0acf773b2c5880f": {
     "views": []
    },
    "d299f31ec9cc4bf899a79f8a368d37bc": {
     "views": []
    },
    "d2f66ead992045dcb9328b9e9c64afeb": {
     "views": []
    },
    "d3395ca8309c4490a0832ec40e0268e9": {
     "views": []
    },
    "d3c3a52f70794fa1800b221d4618fc34": {
     "views": []
    },
    "d3ec0b6a91074a8f9534f42782f3f9b4": {
     "views": []
    },
    "d49647fa6d4347f688eab255ea93c548": {
     "views": []
    },
    "d4a0a9ae9a5b4266bdee8ea1d480ee07": {
     "views": []
    },
    "d4b553b217d2475290132253ba224365": {
     "views": []
    },
    "d4be3080e3c54ec6968d14f7ac52328f": {
     "views": []
    },
    "d4c0438810ef445681685369d2a88b18": {
     "views": []
    },
    "d4d2f473433248aa8bac61d9c5a01c95": {
     "views": []
    },
    "d51180e4fe604b8f8be4e32dc56567aa": {
     "views": []
    },
    "d517e94b7844437c88b846d22fa3b8c9": {
     "views": []
    },
    "d6a2fcb694f44fb8b56c0ff14fef3ba9": {
     "views": []
    },
    "d711b4d90ba8470eb6ece1f876db7610": {
     "views": []
    },
    "d71e634587c44d60a902e910e07a87dc": {
     "views": []
    },
    "d7520d4a3b6c425eb9793a2a985d3959": {
     "views": []
    },
    "d7a1e6ed084b475a99642847089a7b2c": {
     "views": []
    },
    "d7b01a634b004fad808456e21df2259f": {
     "views": []
    },
    "d920b514fad64db1be4f07cc4b3d191c": {
     "views": []
    },
    "d944843ad4ba44698baac50b3f08538c": {
     "views": [
      {
       "cell_index": 7
      }
     ]
    },
    "d9580331624a41088a94d33ed72e9cae": {
     "views": []
    },
    "d9595c7286ca419e9109c645cb5dad68": {
     "views": []
    },
    "d95f93b719214efdb9008791f7c09cd7": {
     "views": []
    },
    "da06f07731a049e6849ab6d6ac974d96": {
     "views": []
    },
    "da3660063c0f43c09434a1530b17ceb1": {
     "views": []
    },
    "da576e663f7948debc96af7bf6d3d397": {
     "views": []
    },
    "da838430996649ba88cc162f3cbf0014": {
     "views": []
    },
    "dae351dd5ee04956a3dac330f388bb5e": {
     "views": []
    },
    "db120a66d3c34e4f9c376b30bf45ccd1": {
     "views": []
    },
    "db169084d6764be1a4def66575c2271c": {
     "views": []
    },
    "db33c8163ad14275bf4f7d17547684a2": {
     "views": []
    },
    "db725316d1364e58ba7562d20f05f896": {
     "views": []
    },
    "dbc4a7e05f8f490c966cb340340acb80": {
     "views": []
    },
    "dc17dd855dad40fa9978a3eca96d2ff3": {
     "views": []
    },
    "dc8381d216d846ab8039ec360aa34e08": {
     "views": []
    },
    "dccaea82e07243479cde68000aacd646": {
     "views": []
    },
    "dd197668d5424dea98b5862d0b3ec621": {
     "views": []
    },
    "dd3654dd541f4eee8cea5d211c9bc2b0": {
     "views": []
    },
    "dd80b840c8164669925174ea3eb03f91": {
     "views": [
      {
       "cell_index": 6
      }
     ]
    },
    "dde09a48f3a34f22a3f3a281d296b321": {
     "views": []
    },
    "de29029974a74d0787c97c0c61d0df7c": {
     "views": []
    },
    "deaa3f51449a4c70955b2eb84b8c7a7f": {
     "views": []
    },
    "dede5c4c62214842982e26e857165e5b": {
     "views": []
    },
    "df4b0d2966c8472a81017a909efe9951": {
     "views": []
    },
    "dfd334cac9bc419dae464507f5343c59": {
     "views": []
    },
    "dffadb3967684c05a8546749e805f78e": {
     "views": []
    },
    "e05855c5c6db4682b5cb664cbc5f0afb": {
     "views": []
    },
    "e07f135062ff48deb7be87e105a0ac91": {
     "views": []
    },
    "e1171fd182864aaeaaaff0b431def129": {
     "views": []
    },
    "e1ba8ab6a86e445e9c9ceb29f3004237": {
     "views": []
    },
    "e1f964595bcd4b6c834e936900086d1f": {
     "views": []
    },
    "e314e75b142545c3ba5cdb5887398a24": {
     "views": [
      {
       "cell_index": 7
      }
     ]
    },
    "e3d0de33870e41f1b0a98a74f4fb81ae": {
     "views": []
    },
    "e54a0528f44b47e789a84689079e6d43": {
     "views": [
      {
       "cell_index": 8
      }
     ]
    },
    "e5ddac556f704ea7bf2c1c809d11615e": {
     "views": []
    },
    "e655322819894c5cbd1ec79cacb9f574": {
     "views": []
    },
    "e67f0d93cb2f4cc2b3bba06151d83853": {
     "views": []
    },
    "e6ad6e2ca72040ee953fa90f6ff4bb31": {
     "views": []
    },
    "e75b9fe5b2844c49a5eeffaedb1a47cc": {
     "views": []
    },
    "e7f543df60594fc5bfbc4d6be39ac278": {
     "views": []
    },
    "e83893a2bec040cbb91743d747f3b340": {
     "views": []
    },
    "e83914fad92e4fd9ae16271496eee887": {
     "views": []
    },
    "e87b1a64edeb438f84ab18e938410d22": {
     "views": []
    },
    "e934de3e52284897b1e0157a6724fbad": {
     "views": []
    },
    "e9ba80e3a8ab4b589ba88af4fd2c253e": {
     "views": []
    },
    "e9dc1f54bb774da6b22ee35b583264ff": {
     "views": []
    },
    "ea188a9c90684ae0863b0e53c0ef515e": {
     "views": []
    },
    "eab277364d83400b83c50244c3a8a865": {
     "views": []
    },
    "eacc708b6cb64a989c84d2ac96b5bb67": {
     "views": []
    },
    "eae11535f0f14d7dae1e39da941e2e0c": {
     "views": []
    },
    "ec28a4a3850d40e397d557eef59ab191": {
     "views": []
    },
    "ed093bb0589e4786b4e533212c328154": {
     "views": []
    },
    "ed242e66714c40659045ad47203bd0ad": {
     "views": []
    },
    "ed4d1b7480e04573b79266b95672e7fa": {
     "views": []
    },
    "ed91acdc4ad34d54a1359fd81faf2c8d": {
     "views": []
    },
    "ede6cdb717b24b7a8e6234235659cf5b": {
     "views": []
    },
    "ee06c800d2a246429625776e7492c060": {
     "views": []
    },
    "ee88baad1101470b85f30458e7eb30d5": {
     "views": []
    },
    "eec2768157514b81ba230c16e20b01c4": {
     "views": []
    },
    "ef14b888355b4692b1b15ef3413be313": {
     "views": []
    },
    "ef29aca411b54bcdbb6f8d69e8157bfa": {
     "views": []
    },
    "efbd7aeb967b47d6b83d4a80a47a791f": {
     "views": []
    },
    "f031a4a0f2694c3ea975624fd4df4575": {
     "views": [
      {
       "cell_index": 9
      }
     ]
    },
    "f0401509eea141e0978136d747501a34": {
     "views": []
    },
    "f07dedf818ac4379ba2133d1b6145b70": {
     "views": []
    },
    "f0a58e647bb549d782ec277708ba5bad": {
     "views": []
    },
    "f0d9074ab6ea4981a015977c942a66d6": {
     "views": []
    },
    "f0fb8ebaabeb4f279c90872213a1ad82": {
     "views": []
    },
    "f12c9e4c234d47a98b89aa0ef03a2099": {
     "views": []
    },
    "f1730462381a4c13a0c8a11cd7fa858c": {
     "views": []
    },
    "f1e1b60c5c7646deb69883eae1c9bafd": {
     "views": []
    },
    "f1f33afeda84471bb6ad780333d02f91": {
     "views": []
    },
    "f21881e9d2654f4a835064c30a0598b2": {
     "views": []
    },
    "f22d011d366945e7b77ae16ed8039986": {
     "views": []
    },
    "f275b965d50143c0afce2abdbe97f529": {
     "views": []
    },
    "f28e69532bd54a43954fd7bd870d7881": {
     "views": []
    },
    "f296e245f7c649e782d621fa1fb51a13": {
     "views": []
    },
    "f335b600e75f4205a84816c5b1075b38": {
     "views": []
    },
    "f371eb0656394a8985b9ff8e354d5d33": {
     "views": []
    },
    "f38793ef9f4a42d7bc6eb0f419247f14": {
     "views": []
    },
    "f43acdd425d944d697deff1fac3b1f32": {
     "views": []
    },
    "f48e5a24a7ca43dc8f03c8361121f1ce": {
     "views": [
      {
       "cell_index": 7
      }
     ]
    },
    "f4ad744de54d4e5c823e9b92fc1e4b95": {
     "views": []
    },
    "f4d363e1ec1249c29b7f4bbf11976d63": {
     "views": []
    },
    "f506413ae67e4addb700ab3a395b5025": {
     "views": [
      {
       "cell_index": 4
      }
     ]
    },
    "f5e328f5ae824595905c82629f599aed": {
     "views": []
    },
    "f727e56360a547e5bbd1d5c7815da0b9": {
     "views": [
      {
       "cell_index": 9
      }
     ]
    },
    "f72e311da14d4047b97fa639ee1a94b3": {
     "views": []
    },
    "f7779af276714844ac041e81e901c748": {
     "views": []
    },
    "f7ca4d89786a4f05976d1c1656e111cf": {
     "views": []
    },
    "f7e3dd9ea689466d90776126f1d751c6": {
     "views": []
    },
    "f86439fc327b44d2ac115ef369927738": {
     "views": []
    },
    "f8b14f3457fc41cf92e0cd803d54d6d2": {
     "views": []
    },
    "f8fa5197610c4bf794e7647f7368b7c7": {
     "views": []
    },
    "f934390fec76432780cb382439cca710": {
     "views": []
    },
    "f99b94b724d64cf5a7d16888b8ec79dd": {
     "views": []
    },
    "f9c3f1213909430297a0099664ba683c": {
     "views": []
    },
    "f9f4159b007240dda6cb6798d783f296": {
     "views": []
    },
    "fa218fbd583443bb9599d4d149357e88": {
     "views": []
    },
    "fa304b80767f4eb487ab2848af2c1d7d": {
     "views": []
    },
    "fab54549175543f898304c61edb9289e": {
     "views": []
    },
    "fae54b5792304a72ae5b852e77e73d60": {
     "views": []
    },
    "fae696cea5b643d3b5025187b906a892": {
     "views": []
    },
    "fb0c8d405c4b43529b3dea73b3f87e30": {
     "views": []
    },
    "fc9c2ed29bb24823808f0160a09f4d1d": {
     "views": []
    },
    "fd212f49562d41f390de322300db4115": {
     "views": []
    },
    "fde68a85876a42128e62d276aa3be7f8": {
     "views": []
    },
    "fdea5414b3444f5fa6060f9974812820": {
     "views": []
    },
    "fdfed123f00142f3bfac011850f086e5": {
     "views": []
    },
    "fe22751e825f41598e7923f5d6444c58": {
     "views": []
    },
    "fe72daed230d48bab294c53999c1276b": {
     "views": []
    },
    "ff136b8bc1bc41a4b980224bd5e98d2f": {
     "views": []
    },
    "ff30567099ac47d1b86ff211cc75e275": {
     "views": []
    },
    "ff5cfa4e02184798843736d59232fac4": {
     "views": []
    },
    "ff71f112c19440b4b02d740af63401b9": {
     "views": []
    },
    "ff970f5319964ff49bd837d7aa7ddee1": {
     "views": []
    },
    "ffcf5f9dd0234042bc001a7dbd86e02c": {
     "views": []
    },
    "ffd4081a872d4afeb6a41334bc295817": {
     "views": []
    }
   },
   "version": "1.1.2"
  }
 },
 "nbformat": 4,
 "nbformat_minor": 2
}
